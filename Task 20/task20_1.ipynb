{
 "cells": [
  {
   "cell_type": "code",
   "execution_count": 6,
   "outputs": [],
   "source": [
    "import scipy.stats as stats"
   ],
   "metadata": {
    "collapsed": false,
    "ExecuteTime": {
     "end_time": "2023-12-17T17:40:53.043118700Z",
     "start_time": "2023-12-17T17:40:52.951026Z"
    }
   },
   "id": "b27c327462c54f3b"
  },
  {
   "cell_type": "code",
   "execution_count": 7,
   "outputs": [],
   "source": [
    "successes = 170  # кількість успішних спроб (мешканці, що мають авто)\n",
    "\n",
    "total = 250  # загальна кількість спроб (загальна кількість опитаних)\n",
    "\n",
    "null_hypothesis = 0.6  # гіпотетичний відсоток (60%)\n",
    "\n",
    "p_hat = successes / total  # оцінка вибіркової пропорції"
   ],
   "metadata": {
    "collapsed": false,
    "ExecuteTime": {
     "end_time": "2023-12-17T17:40:53.348644100Z",
     "start_time": "2023-12-17T17:40:53.339913700Z"
    }
   },
   "id": "f869221001049b12"
  },
  {
   "cell_type": "code",
   "execution_count": 8,
   "outputs": [],
   "source": [
    "standard_error = ((null_hypothesis * (\n",
    "            1 - null_hypothesis)) / total) ** 0.5  # стандартне відхилення для вибіркової пропорції\n",
    "\n",
    "z_stat = (p_hat - null_hypothesis) / standard_error  # обчислення Z-статистики\n",
    "\n",
    "p_value = 1 - stats.norm.cdf(z_stat)  # розрахунок p-значення для односторонньої альтернативи\n",
    "\n",
    "alpha = 0.1  # 10% рівень значущості"
   ],
   "metadata": {
    "collapsed": false,
    "ExecuteTime": {
     "end_time": "2023-12-17T17:40:53.725440300Z",
     "start_time": "2023-12-17T17:40:53.719128300Z"
    }
   },
   "id": "da0dd5e818d67128"
  },
  {
   "cell_type": "code",
   "execution_count": 9,
   "outputs": [
    {
     "name": "stdout",
     "output_type": "stream",
     "text": [
      "Z-статистика: 2.5819888974716134\n",
      "P-значення: 0.004911637253759538\n",
      "Є достатні докази для відхилення нульової гіпотези\n"
     ]
    }
   ],
   "source": [
    "print(f\"Z-статистика: {z_stat}\")\n",
    "print(f\"P-значення: {p_value}\")\n",
    "\n",
    "if p_value < alpha:\n",
    "    print(\"Є достатні докази для відхилення нульової гіпотези\")\n",
    "else:\n",
    "    print(\"Немає достатніх доказів для відхилення нульової гіпотези\")\n"
   ],
   "metadata": {
    "collapsed": true,
    "ExecuteTime": {
     "end_time": "2023-12-17T17:40:54.101155600Z",
     "start_time": "2023-12-17T17:40:54.092267300Z"
    }
   },
   "id": "initial_id"
  },
  {
   "cell_type": "code",
   "execution_count": null,
   "outputs": [],
   "source": [],
   "metadata": {
    "collapsed": false
   },
   "id": "c87b83b0518b0ecd"
  }
 ],
 "metadata": {
  "kernelspec": {
   "display_name": "Python 3",
   "language": "python",
   "name": "python3"
  },
  "language_info": {
   "codemirror_mode": {
    "name": "ipython",
    "version": 2
   },
   "file_extension": ".py",
   "mimetype": "text/x-python",
   "name": "python",
   "nbconvert_exporter": "python",
   "pygments_lexer": "ipython2",
   "version": "2.7.6"
  }
 },
 "nbformat": 4,
 "nbformat_minor": 5
}
