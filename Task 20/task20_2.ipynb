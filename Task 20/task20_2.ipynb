{
 "cells": [
  {
   "cell_type": "code",
   "execution_count": 2,
   "outputs": [],
   "source": [
    "import math"
   ],
   "metadata": {
    "collapsed": false,
    "ExecuteTime": {
     "end_time": "2023-12-17T17:37:55.302025Z",
     "start_time": "2023-12-17T17:37:55.278084400Z"
    }
   },
   "id": "4bdd2f9051373051"
  },
  {
   "cell_type": "code",
   "execution_count": 3,
   "outputs": [],
   "source": [
    "x1 = 3.1  # середня швидкість переробки нафти старим заводом\n",
    "sigma1 = 1.0  # стандартне відхилення для старого заводу\n",
    "n1 = 40  # кількість зразків для старого заводу\n",
    "\n",
    "x2 = 3.8  # середня швидкість переробки нафти новим заводом\n",
    "sigma2 = 1.5  # стандартне відхилення для нового заводу\n",
    "n2 = 36  # кількість зразків для нового заводу"
   ],
   "metadata": {
    "collapsed": false,
    "ExecuteTime": {
     "end_time": "2023-12-17T17:38:16.567503300Z",
     "start_time": "2023-12-17T17:38:16.539082700Z"
    }
   },
   "id": "54f9e16f9cfade41"
  },
  {
   "cell_type": "code",
   "execution_count": null,
   "outputs": [],
   "source": [
    "z_calculated = ((x1 - x2) - 0) / math.sqrt((sigma1 ** 2 / n1) + (sigma2 ** 2 / n2))  # розрахунок z-критерію\n",
    "\n",
    "critical_value = 1.645  # визначення критичного значення для 10% рівня значущості"
   ],
   "metadata": {
    "collapsed": false
   },
   "id": "bc5e2d153c07736d"
  },
  {
   "cell_type": "code",
   "execution_count": 4,
   "outputs": [
    {
     "name": "stdout",
     "output_type": "stream",
     "text": [
      "Різниця між середніми значуща на 10% рівні значущості. Значення z = -2.3664319132398455\n"
     ]
    }
   ],
   "source": [
    "if z_calculated <= -critical_value or z_calculated >= critical_value:\n",
    "    print(f\"Різниця між середніми значуща на 10% рівні значущості. Значення z = {z_calculated}\")\n",
    "else:\n",
    "    print(f\"Різниця між середніми не є значущою на 10% рівні значущості. Значення z = {z_calculated}\")"
   ],
   "metadata": {
    "collapsed": true,
    "ExecuteTime": {
     "end_time": "2023-12-17T17:39:16.056397400Z",
     "start_time": "2023-12-17T17:39:16.019034400Z"
    }
   },
   "id": "initial_id"
  },
  {
   "cell_type": "code",
   "execution_count": null,
   "outputs": [],
   "source": [],
   "metadata": {
    "collapsed": false
   },
   "id": "88f94198f9142a9e"
  }
 ],
 "metadata": {
  "kernelspec": {
   "display_name": "Python 3",
   "language": "python",
   "name": "python3"
  },
  "language_info": {
   "codemirror_mode": {
    "name": "ipython",
    "version": 2
   },
   "file_extension": ".py",
   "mimetype": "text/x-python",
   "name": "python",
   "nbconvert_exporter": "python",
   "pygments_lexer": "ipython2",
   "version": "2.7.6"
  }
 },
 "nbformat": 4,
 "nbformat_minor": 5
}
