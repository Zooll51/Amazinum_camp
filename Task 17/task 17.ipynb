{
 "cells": [
  {
   "cell_type": "code",
   "execution_count": 34,
   "id": "initial_id",
   "metadata": {
    "collapsed": true,
    "ExecuteTime": {
     "end_time": "2023-12-17T16:32:48.134547100Z",
     "start_time": "2023-12-17T16:32:48.106988800Z"
    }
   },
   "outputs": [],
   "source": [
    "import pandas as pd\n",
    "import numpy as np\n",
    "import matplotlib.pyplot as plt\n",
    "import re"
   ]
  },
  {
   "cell_type": "code",
   "execution_count": 35,
   "outputs": [],
   "source": [
    "movie = pd.read_csv(\"data/movie.csv\")\n",
    "rating = pd.read_csv(\"data/rating.csv\")"
   ],
   "metadata": {
    "collapsed": false,
    "ExecuteTime": {
     "end_time": "2023-12-17T16:33:03.860173300Z",
     "start_time": "2023-12-17T16:32:49.459130900Z"
    }
   },
   "id": "4734da1866e1bbeb"
  },
  {
   "cell_type": "code",
   "execution_count": 36,
   "outputs": [],
   "source": [
    "movie['year'] = movie.title.str.extract('(\\(\\d\\d\\d\\d\\))', expand=False)\n",
    "movie['year'] = movie.year.str.extract('(\\d\\d\\d\\d)', expand=False)"
   ],
   "metadata": {
    "collapsed": false,
    "ExecuteTime": {
     "end_time": "2023-12-17T16:33:03.913115900Z",
     "start_time": "2023-12-17T16:33:03.862173100Z"
    }
   },
   "id": "e23532224c15a489"
  },
  {
   "cell_type": "code",
   "execution_count": 40,
   "outputs": [],
   "source": [
    "movie['title'] = movie.title.str.replace('(\\(\\d\\d\\d\\d\\))', '')\n",
    "pattern = r'\\s*\\(\\d{4}\\)'\n",
    "movie['title'] = [re.sub(pattern, '', movi) for movi in movie['title']]\n",
    "movie.drop(columns=['genres'], inplace=True)"
   ],
   "metadata": {
    "collapsed": false,
    "ExecuteTime": {
     "end_time": "2023-12-17T16:36:20.716020300Z",
     "start_time": "2023-12-17T16:36:20.647005700Z"
    }
   },
   "id": "efe943d64a33781b"
  },
  {
   "cell_type": "code",
   "execution_count": 41,
   "outputs": [
    {
     "data": {
      "text/plain": "   movieId                        title  year\n0        1                    Toy Story  1995\n1        2                      Jumanji  1995\n2        3             Grumpier Old Men  1995\n3        4            Waiting to Exhale  1995\n4        5  Father of the Bride Part II  1995",
      "text/html": "<div>\n<style scoped>\n    .dataframe tbody tr th:only-of-type {\n        vertical-align: middle;\n    }\n\n    .dataframe tbody tr th {\n        vertical-align: top;\n    }\n\n    .dataframe thead th {\n        text-align: right;\n    }\n</style>\n<table border=\"1\" class=\"dataframe\">\n  <thead>\n    <tr style=\"text-align: right;\">\n      <th></th>\n      <th>movieId</th>\n      <th>title</th>\n      <th>year</th>\n    </tr>\n  </thead>\n  <tbody>\n    <tr>\n      <th>0</th>\n      <td>1</td>\n      <td>Toy Story</td>\n      <td>1995</td>\n    </tr>\n    <tr>\n      <th>1</th>\n      <td>2</td>\n      <td>Jumanji</td>\n      <td>1995</td>\n    </tr>\n    <tr>\n      <th>2</th>\n      <td>3</td>\n      <td>Grumpier Old Men</td>\n      <td>1995</td>\n    </tr>\n    <tr>\n      <th>3</th>\n      <td>4</td>\n      <td>Waiting to Exhale</td>\n      <td>1995</td>\n    </tr>\n    <tr>\n      <th>4</th>\n      <td>5</td>\n      <td>Father of the Bride Part II</td>\n      <td>1995</td>\n    </tr>\n  </tbody>\n</table>\n</div>"
     },
     "execution_count": 41,
     "metadata": {},
     "output_type": "execute_result"
    }
   ],
   "source": [
    "movie.head()"
   ],
   "metadata": {
    "collapsed": false,
    "ExecuteTime": {
     "end_time": "2023-12-17T16:36:21.175912900Z",
     "start_time": "2023-12-17T16:36:21.159949400Z"
    }
   },
   "id": "f50c0b01eee2b12d"
  },
  {
   "cell_type": "code",
   "execution_count": 42,
   "outputs": [
    {
     "data": {
      "text/plain": "   userId  movieId  rating\n0       1        2     3.5\n1       1       29     3.5\n2       1       32     3.5\n3       1       47     3.5\n4       1       50     3.5",
      "text/html": "<div>\n<style scoped>\n    .dataframe tbody tr th:only-of-type {\n        vertical-align: middle;\n    }\n\n    .dataframe tbody tr th {\n        vertical-align: top;\n    }\n\n    .dataframe thead th {\n        text-align: right;\n    }\n</style>\n<table border=\"1\" class=\"dataframe\">\n  <thead>\n    <tr style=\"text-align: right;\">\n      <th></th>\n      <th>userId</th>\n      <th>movieId</th>\n      <th>rating</th>\n    </tr>\n  </thead>\n  <tbody>\n    <tr>\n      <th>0</th>\n      <td>1</td>\n      <td>2</td>\n      <td>3.5</td>\n    </tr>\n    <tr>\n      <th>1</th>\n      <td>1</td>\n      <td>29</td>\n      <td>3.5</td>\n    </tr>\n    <tr>\n      <th>2</th>\n      <td>1</td>\n      <td>32</td>\n      <td>3.5</td>\n    </tr>\n    <tr>\n      <th>3</th>\n      <td>1</td>\n      <td>47</td>\n      <td>3.5</td>\n    </tr>\n    <tr>\n      <th>4</th>\n      <td>1</td>\n      <td>50</td>\n      <td>3.5</td>\n    </tr>\n  </tbody>\n</table>\n</div>"
     },
     "execution_count": 42,
     "metadata": {},
     "output_type": "execute_result"
    }
   ],
   "source": [
    "rating.drop(columns=['timestamp'], inplace=True)\n",
    "rating.head()"
   ],
   "metadata": {
    "collapsed": false,
    "ExecuteTime": {
     "end_time": "2023-12-17T16:36:36.849003900Z",
     "start_time": "2023-12-17T16:36:36.260799400Z"
    }
   },
   "id": "7c45b4689fd70d31"
  },
  {
   "cell_type": "code",
   "execution_count": 43,
   "outputs": [
    {
     "data": {
      "text/plain": "                 title  rating\n0  Breakfast Club, The     4.0\n1            Toy Story     2.5\n2              Jumanji     3.0\n3         Pulp Fiction     4.5\n4                Akira     5.0",
      "text/html": "<div>\n<style scoped>\n    .dataframe tbody tr th:only-of-type {\n        vertical-align: middle;\n    }\n\n    .dataframe tbody tr th {\n        vertical-align: top;\n    }\n\n    .dataframe thead th {\n        text-align: right;\n    }\n</style>\n<table border=\"1\" class=\"dataframe\">\n  <thead>\n    <tr style=\"text-align: right;\">\n      <th></th>\n      <th>title</th>\n      <th>rating</th>\n    </tr>\n  </thead>\n  <tbody>\n    <tr>\n      <th>0</th>\n      <td>Breakfast Club, The</td>\n      <td>4.0</td>\n    </tr>\n    <tr>\n      <th>1</th>\n      <td>Toy Story</td>\n      <td>2.5</td>\n    </tr>\n    <tr>\n      <th>2</th>\n      <td>Jumanji</td>\n      <td>3.0</td>\n    </tr>\n    <tr>\n      <th>3</th>\n      <td>Pulp Fiction</td>\n      <td>4.5</td>\n    </tr>\n    <tr>\n      <th>4</th>\n      <td>Akira</td>\n      <td>5.0</td>\n    </tr>\n  </tbody>\n</table>\n</div>"
     },
     "execution_count": 43,
     "metadata": {},
     "output_type": "execute_result"
    }
   ],
   "source": [
    "user = [\n",
    "    {'title': 'Breakfast Club, The', 'rating': 4},\n",
    "    {'title': 'Toy Story', 'rating': 2.5},\n",
    "    {'title': 'Jumanji', 'rating': 3},\n",
    "    {'title': \"Pulp Fiction\", 'rating': 4.5},\n",
    "    {'title': 'Akira', 'rating': 5}\n",
    "]\n",
    "inputMovie = pd.DataFrame(user)\n",
    "inputMovie"
   ],
   "metadata": {
    "collapsed": false,
    "ExecuteTime": {
     "end_time": "2023-12-17T16:36:38.315408Z",
     "start_time": "2023-12-17T16:36:38.260365400Z"
    }
   },
   "id": "ceaa6d6457bad5ff"
  },
  {
   "cell_type": "code",
   "execution_count": 47,
   "outputs": [
    {
     "data": {
      "text/plain": "   movieId                title  rating\n0        1            Toy Story     2.5\n1        2              Jumanji     3.0\n2      296         Pulp Fiction     4.5\n3     1274                Akira     5.0\n4     1968  Breakfast Club, The     4.0",
      "text/html": "<div>\n<style scoped>\n    .dataframe tbody tr th:only-of-type {\n        vertical-align: middle;\n    }\n\n    .dataframe tbody tr th {\n        vertical-align: top;\n    }\n\n    .dataframe thead th {\n        text-align: right;\n    }\n</style>\n<table border=\"1\" class=\"dataframe\">\n  <thead>\n    <tr style=\"text-align: right;\">\n      <th></th>\n      <th>movieId</th>\n      <th>title</th>\n      <th>rating</th>\n    </tr>\n  </thead>\n  <tbody>\n    <tr>\n      <th>0</th>\n      <td>1</td>\n      <td>Toy Story</td>\n      <td>2.5</td>\n    </tr>\n    <tr>\n      <th>1</th>\n      <td>2</td>\n      <td>Jumanji</td>\n      <td>3.0</td>\n    </tr>\n    <tr>\n      <th>2</th>\n      <td>296</td>\n      <td>Pulp Fiction</td>\n      <td>4.5</td>\n    </tr>\n    <tr>\n      <th>3</th>\n      <td>1274</td>\n      <td>Akira</td>\n      <td>5.0</td>\n    </tr>\n    <tr>\n      <th>4</th>\n      <td>1968</td>\n      <td>Breakfast Club, The</td>\n      <td>4.0</td>\n    </tr>\n  </tbody>\n</table>\n</div>"
     },
     "execution_count": 47,
     "metadata": {},
     "output_type": "execute_result"
    }
   ],
   "source": [
    "Id = movie[movie['title'].isin(inputMovie['title'].tolist())]\n",
    "inputMovie = pd.merge(Id, inputMovie)\n",
    "inputMovie.drop(columns=['year'], inplace=True)\n",
    "inputMovie"
   ],
   "metadata": {
    "collapsed": false,
    "ExecuteTime": {
     "end_time": "2023-12-17T16:37:31.125982500Z",
     "start_time": "2023-12-17T16:37:31.102966Z"
    }
   },
   "id": "6a7915232c5c7c3f"
  },
  {
   "cell_type": "code",
   "execution_count": 48,
   "outputs": [
    {
     "data": {
      "text/plain": "     userId  movieId  rating\n0         1        2     3.5\n11        1      296     4.0\n236       3        1     4.0\n451       5        2     3.0\n517       6        1     5.0",
      "text/html": "<div>\n<style scoped>\n    .dataframe tbody tr th:only-of-type {\n        vertical-align: middle;\n    }\n\n    .dataframe tbody tr th {\n        vertical-align: top;\n    }\n\n    .dataframe thead th {\n        text-align: right;\n    }\n</style>\n<table border=\"1\" class=\"dataframe\">\n  <thead>\n    <tr style=\"text-align: right;\">\n      <th></th>\n      <th>userId</th>\n      <th>movieId</th>\n      <th>rating</th>\n    </tr>\n  </thead>\n  <tbody>\n    <tr>\n      <th>0</th>\n      <td>1</td>\n      <td>2</td>\n      <td>3.5</td>\n    </tr>\n    <tr>\n      <th>11</th>\n      <td>1</td>\n      <td>296</td>\n      <td>4.0</td>\n    </tr>\n    <tr>\n      <th>236</th>\n      <td>3</td>\n      <td>1</td>\n      <td>4.0</td>\n    </tr>\n    <tr>\n      <th>451</th>\n      <td>5</td>\n      <td>2</td>\n      <td>3.0</td>\n    </tr>\n    <tr>\n      <th>517</th>\n      <td>6</td>\n      <td>1</td>\n      <td>5.0</td>\n    </tr>\n  </tbody>\n</table>\n</div>"
     },
     "execution_count": 48,
     "metadata": {},
     "output_type": "execute_result"
    }
   ],
   "source": [
    "users = rating[rating['movieId'].isin(inputMovie['movieId'].tolist())]\n",
    "users.head()"
   ],
   "metadata": {
    "collapsed": false,
    "ExecuteTime": {
     "end_time": "2023-12-17T16:37:46.698011100Z",
     "start_time": "2023-12-17T16:37:46.472986700Z"
    }
   },
   "id": "6042d93ab38e2851"
  },
  {
   "cell_type": "code",
   "execution_count": 49,
   "outputs": [
    {
     "data": {
      "text/plain": "(168730, 3)"
     },
     "execution_count": 49,
     "metadata": {},
     "output_type": "execute_result"
    }
   ],
   "source": [
    "users.shape"
   ],
   "metadata": {
    "collapsed": false,
    "ExecuteTime": {
     "end_time": "2023-12-17T16:38:00.237539300Z",
     "start_time": "2023-12-17T16:38:00.206862900Z"
    }
   },
   "id": "ca336ecdf1bfadc8"
  },
  {
   "cell_type": "code",
   "execution_count": 54,
   "outputs": [],
   "source": [
    "userSubsetGroup = users.groupby(['userId'])"
   ],
   "metadata": {
    "collapsed": false,
    "ExecuteTime": {
     "end_time": "2023-12-17T16:47:23.816541600Z",
     "start_time": "2023-12-17T16:47:23.810256700Z"
    }
   },
   "id": "dbf888e460e24fb8"
  },
  {
   "cell_type": "code",
   "execution_count": 55,
   "outputs": [
    {
     "data": {
      "text/plain": "        userId  movieId  rating\n166633    1130     1968     4.0",
      "text/html": "<div>\n<style scoped>\n    .dataframe tbody tr th:only-of-type {\n        vertical-align: middle;\n    }\n\n    .dataframe tbody tr th {\n        vertical-align: top;\n    }\n\n    .dataframe thead th {\n        text-align: right;\n    }\n</style>\n<table border=\"1\" class=\"dataframe\">\n  <thead>\n    <tr style=\"text-align: right;\">\n      <th></th>\n      <th>userId</th>\n      <th>movieId</th>\n      <th>rating</th>\n    </tr>\n  </thead>\n  <tbody>\n    <tr>\n      <th>166633</th>\n      <td>1130</td>\n      <td>1968</td>\n      <td>4.0</td>\n    </tr>\n  </tbody>\n</table>\n</div>"
     },
     "execution_count": 55,
     "metadata": {},
     "output_type": "execute_result"
    }
   ],
   "source": [
    "userSubsetGroup.get_group(1130)"
   ],
   "metadata": {
    "collapsed": false,
    "ExecuteTime": {
     "end_time": "2023-12-17T16:47:24.869242100Z",
     "start_time": "2023-12-17T16:47:24.716334500Z"
    }
   },
   "id": "21ac879bbacb2d5f"
  },
  {
   "cell_type": "code",
   "execution_count": 56,
   "outputs": [],
   "source": [
    "userSubsetGroup = sorted(userSubsetGroup, key=lambda x: len(x[1]), reverse=True)"
   ],
   "metadata": {
    "collapsed": false,
    "ExecuteTime": {
     "end_time": "2023-12-17T17:00:11.959252400Z",
     "start_time": "2023-12-17T16:47:26.748897100Z"
    }
   },
   "id": "bba3faeb3943cb94"
  },
  {
   "cell_type": "code",
   "execution_count": 57,
   "outputs": [
    {
     "data": {
      "text/plain": "[((91,),\n        userId  movieId  rating\n  9621      91        1     4.0\n  9622      91        2     3.5\n  9669      91      296     3.5\n  9826      91     1274     2.5\n  9903      91     1968     4.0),\n ((294,),\n         userId  movieId  rating\n  37452     294        1     4.5\n  37453     294        2     4.5\n  37504     294      296     4.5\n  37648     294     1274     4.5\n  37731     294     1968     5.0),\n ((586,),\n         userId  movieId  rating\n  81164     586        1     2.5\n  81165     586        2     3.0\n  81226     586      296     5.0\n  81390     586     1274     4.0\n  81499     586     1968     3.0)]"
     },
     "execution_count": 57,
     "metadata": {},
     "output_type": "execute_result"
    }
   ],
   "source": [
    " userSubsetGroup[0:3]"
   ],
   "metadata": {
    "collapsed": false,
    "ExecuteTime": {
     "end_time": "2023-12-17T17:01:21.817033Z",
     "start_time": "2023-12-17T17:01:21.741617700Z"
    }
   },
   "id": "d04f44fe9e7e3c5d"
  },
  {
   "cell_type": "code",
   "execution_count": 58,
   "outputs": [],
   "source": [
    "userSubsetGroup = userSubsetGroup[0:100]"
   ],
   "metadata": {
    "collapsed": false,
    "ExecuteTime": {
     "end_time": "2023-12-17T17:02:00.196869900Z",
     "start_time": "2023-12-17T17:02:00.005073800Z"
    }
   },
   "id": "74037a0b8ff659a7"
  },
  {
   "cell_type": "code",
   "execution_count": 60,
   "outputs": [],
   "source": [
    "from math import sqrt\n",
    "\n",
    "pearsonCorDict = {}\n",
    "\n",
    "#For every user group in our subset\n",
    "for name, group in userSubsetGroup:\n",
    "    #Let's start by sorting the input and current user group so the values aren't mixed up later on\n",
    "    group = group.sort_values(by='movieId')\n",
    "    inputMovie = inputMovie.sort_values(by='movieId')\n",
    "    #Get the N for the formula\n",
    "    n = len(group)\n",
    "    #Get the review scores for the movies that they both have in common\n",
    "    temp = inputMovie[inputMovie['movieId'].isin(group['movieId'].tolist())]\n",
    "    #And then store them in a temporary buffer variable in a list format to facilitate future calculations\n",
    "    tempRatingList = temp['rating'].tolist()\n",
    "    #put the current user group reviews in a list format\n",
    "    tempGroupList = group['rating'].tolist()\n",
    "    #Now let's calculate the pearson correlation between two users, so called, x and y\n",
    "    Sxx = sum([i ** 2 for i in tempRatingList]) - pow(sum(tempRatingList), 2) / float(n)\n",
    "    Syy = sum([i ** 2 for i in tempGroupList]) - pow(sum(tempGroupList), 2) / float(n)\n",
    "    Sxy = sum(i * j for i, j in zip(tempRatingList, tempGroupList)) - sum(tempRatingList) * sum(tempGroupList) / float(\n",
    "        n)\n",
    "\n",
    "    #If the denominator is different than zero, then divide, else, 0 correlation.\n",
    "    if Sxx != 0 and Syy != 0:\n",
    "        pearsonCorDict[name] = Sxy / sqrt(Sxx * Syy)\n",
    "    else:\n",
    "        pearsonCorDict[name] = 0"
   ],
   "metadata": {
    "collapsed": false,
    "ExecuteTime": {
     "end_time": "2023-12-17T17:02:32.360993700Z",
     "start_time": "2023-12-17T17:02:32.287960600Z"
    }
   },
   "id": "597ad771b900dbda"
  },
  {
   "cell_type": "code",
   "execution_count": 61,
   "outputs": [
    {
     "data": {
      "text/plain": "dict_items([((91,), -0.6890618270883883), ((294,), 0.10783277320343156), ((586,), 0.7836445860269199), ((648,), 0.444102681159703), ((775,), 0.46266531814837414), ((812,), -0.12945217625467967), ((869,), 0.07624928516630236), ((903,), 0.0660338179744212), ((1200,), 0.2494610901255917), ((1244,), 0.29654012630945475), ((1715,), 0.6309898162000303), ((1748,), 0.5114957546028552), ((1763,), 0.1760901812651271), ((1810,), 0.6990252954195334), ((1813,), 0.36589645615870564), ((1849,), 0.06603381797442423), ((1864,), 0.5114957546028552), ((1942,), 0.23262521394079627), ((1984,), -0.7994259492812168), ((2047,), 0.5477103564747346), ((2099,), -0.10783277320343156), ((2367,), -0.10783277320343994), ((2397,), 0), ((2515,), 0.9244734516419062), ((2661,), 0.835703992326648), ((2757,), 0.8439249387982215), ((2959,), 0.23055616708169688), ((2988,), 0.29809064964264287), ((3179,), 0.0), ((3218,), 0.26413527189768793), ((3268,), 0.7781270639007126), ((3269,), 0.3606167767094639), ((3318,), 0.3026049692947228), ((3397,), 0.46107317554294897), ((3487,), -0.3774147062120338), ((3576,), 0.39620290784652895), ((3629,), 0.5906244232186185), ((3858,), -0.07823011594259388), ((3986,), 0.12056070554260306), ((4034,), 0.4313310928137531), ((4332,), 0.26413527189768593), ((4358,), 0.17049858486761843), ((4529,), -0.12888481555661682), ((4598,), 0.26413527189768443), ((4696,), 0.37741470621203593), ((5504,), -0.579601155968481), ((5518,), 0.1968748077395395), ((5576,), 0.6890618270883883), ((5706,), 0.1968748077395395), ((5791,), 0.3774147062120368), ((5825,), 0.5075459213253782), ((6057,), 0.8364283610093444), ((6207,), 0.057639041770424365), ((6233,), -0.5187513759338138), ((6369,), 0.3774147062120368), ((6630,), -0.07188851546895997), ((6743,), 0.6827688932004708), ((6976,), -0.17032272243312685), ((6978,), 0.8357039923266462), ((7083,), -0.1903297204970173), ((7443,), 0.5114957546028552), ((7539,), 0.5348837209302323), ((7545,), 0.3509885473947315), ((8032,), 0.9400643223910575), ((8082,), 0.8859366348279278), ((8207,), 0.48424799847909017), ((8316,), 0.8069465847859308), ((8405,), 0.37741470621203593), ((8412,), 0.3328770246548887), ((8417,), 0.3774147062120368), ((8558,), 0.7271614469220996), ((8623,), 0.7781270639007186), ((8805,), -0.37741470621203405), ((8944,), 0.6842472173461585), ((8990,), 0.5498414147691564), ((9145,), -0.2017366461964786), ((9175,), 0.4176345347922785), ((9305,), 0.9644856443408245), ((9410,), 0.9244734516419048), ((9454,), 0.26413527189768593), ((9650,), 0.9510441892119876), ((9772,), 0.9244734516419071), ((9790,), -0.5647449664020139), ((9795,), -0.10281451514408314), ((9838,), 0.6819943394704737), ((10012,), 0.4253428648368024), ((10059,), 0.4928713255803919), ((10178,), -0.6628489803598699), ((10321,), -0.1950768266287071), ((10387,), 0.7613188819880644), ((10389,), 0.3774147062120368), ((10443,), -0.6105716541821835), ((10497,), -0.26413527189768593), ((10514,), 0.29261523994306154), ((10560,), 0.5402893024772932), ((10621,), -0.12945217625467967), ((10670,), 0.616315634427937), ((10821,), 0.2219180164365905), ((10822,), 0.02224420266500519), ((10989,), 0.057639041770424365)])"
     },
     "execution_count": 61,
     "metadata": {},
     "output_type": "execute_result"
    }
   ],
   "source": [
    "pearsonCorDict.items()"
   ],
   "metadata": {
    "collapsed": false,
    "ExecuteTime": {
     "end_time": "2023-12-17T17:02:42.381419600Z",
     "start_time": "2023-12-17T17:02:42.300260300Z"
    }
   },
   "id": "99acd441962cf777"
  },
  {
   "cell_type": "code",
   "execution_count": 62,
   "outputs": [
    {
     "data": {
      "text/plain": "   similarityIndex  userId\n0        -0.689062   (91,)\n1         0.107833  (294,)\n2         0.783645  (586,)\n3         0.444103  (648,)\n4         0.462665  (775,)",
      "text/html": "<div>\n<style scoped>\n    .dataframe tbody tr th:only-of-type {\n        vertical-align: middle;\n    }\n\n    .dataframe tbody tr th {\n        vertical-align: top;\n    }\n\n    .dataframe thead th {\n        text-align: right;\n    }\n</style>\n<table border=\"1\" class=\"dataframe\">\n  <thead>\n    <tr style=\"text-align: right;\">\n      <th></th>\n      <th>similarityIndex</th>\n      <th>userId</th>\n    </tr>\n  </thead>\n  <tbody>\n    <tr>\n      <th>0</th>\n      <td>-0.689062</td>\n      <td>(91,)</td>\n    </tr>\n    <tr>\n      <th>1</th>\n      <td>0.107833</td>\n      <td>(294,)</td>\n    </tr>\n    <tr>\n      <th>2</th>\n      <td>0.783645</td>\n      <td>(586,)</td>\n    </tr>\n    <tr>\n      <th>3</th>\n      <td>0.444103</td>\n      <td>(648,)</td>\n    </tr>\n    <tr>\n      <th>4</th>\n      <td>0.462665</td>\n      <td>(775,)</td>\n    </tr>\n  </tbody>\n</table>\n</div>"
     },
     "execution_count": 62,
     "metadata": {},
     "output_type": "execute_result"
    }
   ],
   "source": [
    "pearsonDF = pd.DataFrame.from_dict(pearsonCorDict, orient='index')\n",
    "pearsonDF.columns = ['similarityIndex']\n",
    "pearsonDF['userId'] = pearsonDF.index\n",
    "pearsonDF.index = range(len(pearsonDF))\n",
    "pearsonDF.head()"
   ],
   "metadata": {
    "collapsed": false,
    "ExecuteTime": {
     "end_time": "2023-12-17T17:02:52.100887500Z",
     "start_time": "2023-12-17T17:02:52.057313600Z"
    }
   },
   "id": "48513ae91c98a5ee"
  },
  {
   "cell_type": "code",
   "execution_count": 74,
   "outputs": [
    {
     "data": {
      "text/plain": "    similarityIndex  userId\n77         0.964486    9305\n80         0.951044    9650\n63         0.940064    8032\n81         0.924473    9772\n23         0.924473    2515",
      "text/html": "<div>\n<style scoped>\n    .dataframe tbody tr th:only-of-type {\n        vertical-align: middle;\n    }\n\n    .dataframe tbody tr th {\n        vertical-align: top;\n    }\n\n    .dataframe thead th {\n        text-align: right;\n    }\n</style>\n<table border=\"1\" class=\"dataframe\">\n  <thead>\n    <tr style=\"text-align: right;\">\n      <th></th>\n      <th>similarityIndex</th>\n      <th>userId</th>\n    </tr>\n  </thead>\n  <tbody>\n    <tr>\n      <th>77</th>\n      <td>0.964486</td>\n      <td>9305</td>\n    </tr>\n    <tr>\n      <th>80</th>\n      <td>0.951044</td>\n      <td>9650</td>\n    </tr>\n    <tr>\n      <th>63</th>\n      <td>0.940064</td>\n      <td>8032</td>\n    </tr>\n    <tr>\n      <th>81</th>\n      <td>0.924473</td>\n      <td>9772</td>\n    </tr>\n    <tr>\n      <th>23</th>\n      <td>0.924473</td>\n      <td>2515</td>\n    </tr>\n  </tbody>\n</table>\n</div>"
     },
     "execution_count": 74,
     "metadata": {},
     "output_type": "execute_result"
    }
   ],
   "source": [
    "topUsers = pearsonDF.sort_values(by='similarityIndex', ascending=False)[0:50]\n",
    "topUsers[\"userId\"] = [int(item[0]) for item in topUsers[\"userId\"]]\n",
    "topUsers.head()"
   ],
   "metadata": {
    "collapsed": false,
    "ExecuteTime": {
     "end_time": "2023-12-17T17:12:16.200355700Z",
     "start_time": "2023-12-17T17:12:16.153234500Z"
    }
   },
   "id": "6512b0e01a2ad5e2"
  },
  {
   "cell_type": "code",
   "execution_count": 75,
   "outputs": [
    {
     "data": {
      "text/plain": "   userId  movieId  rating\n0       1        2     3.5\n1       1       29     3.5\n2       1       32     3.5\n3       1       47     3.5\n4       1       50     3.5",
      "text/html": "<div>\n<style scoped>\n    .dataframe tbody tr th:only-of-type {\n        vertical-align: middle;\n    }\n\n    .dataframe tbody tr th {\n        vertical-align: top;\n    }\n\n    .dataframe thead th {\n        text-align: right;\n    }\n</style>\n<table border=\"1\" class=\"dataframe\">\n  <thead>\n    <tr style=\"text-align: right;\">\n      <th></th>\n      <th>userId</th>\n      <th>movieId</th>\n      <th>rating</th>\n    </tr>\n  </thead>\n  <tbody>\n    <tr>\n      <th>0</th>\n      <td>1</td>\n      <td>2</td>\n      <td>3.5</td>\n    </tr>\n    <tr>\n      <th>1</th>\n      <td>1</td>\n      <td>29</td>\n      <td>3.5</td>\n    </tr>\n    <tr>\n      <th>2</th>\n      <td>1</td>\n      <td>32</td>\n      <td>3.5</td>\n    </tr>\n    <tr>\n      <th>3</th>\n      <td>1</td>\n      <td>47</td>\n      <td>3.5</td>\n    </tr>\n    <tr>\n      <th>4</th>\n      <td>1</td>\n      <td>50</td>\n      <td>3.5</td>\n    </tr>\n  </tbody>\n</table>\n</div>"
     },
     "execution_count": 75,
     "metadata": {},
     "output_type": "execute_result"
    }
   ],
   "source": [
    "rating.head()"
   ],
   "metadata": {
    "collapsed": false,
    "ExecuteTime": {
     "end_time": "2023-12-17T17:12:18.941586700Z",
     "start_time": "2023-12-17T17:12:18.918391200Z"
    }
   },
   "id": "ed2206dc8387b1e7"
  },
  {
   "cell_type": "code",
   "execution_count": 76,
   "outputs": [
    {
     "data": {
      "text/plain": "   similarityIndex  userId  movieId  rating\n0         0.964486    9305        1     1.0\n1         0.964486    9305        2     1.0\n2         0.964486    9305       11     1.0\n3         0.964486    9305       21     1.0\n4         0.964486    9305       32     2.0",
      "text/html": "<div>\n<style scoped>\n    .dataframe tbody tr th:only-of-type {\n        vertical-align: middle;\n    }\n\n    .dataframe tbody tr th {\n        vertical-align: top;\n    }\n\n    .dataframe thead th {\n        text-align: right;\n    }\n</style>\n<table border=\"1\" class=\"dataframe\">\n  <thead>\n    <tr style=\"text-align: right;\">\n      <th></th>\n      <th>similarityIndex</th>\n      <th>userId</th>\n      <th>movieId</th>\n      <th>rating</th>\n    </tr>\n  </thead>\n  <tbody>\n    <tr>\n      <th>0</th>\n      <td>0.964486</td>\n      <td>9305</td>\n      <td>1</td>\n      <td>1.0</td>\n    </tr>\n    <tr>\n      <th>1</th>\n      <td>0.964486</td>\n      <td>9305</td>\n      <td>2</td>\n      <td>1.0</td>\n    </tr>\n    <tr>\n      <th>2</th>\n      <td>0.964486</td>\n      <td>9305</td>\n      <td>11</td>\n      <td>1.0</td>\n    </tr>\n    <tr>\n      <th>3</th>\n      <td>0.964486</td>\n      <td>9305</td>\n      <td>21</td>\n      <td>1.0</td>\n    </tr>\n    <tr>\n      <th>4</th>\n      <td>0.964486</td>\n      <td>9305</td>\n      <td>32</td>\n      <td>2.0</td>\n    </tr>\n  </tbody>\n</table>\n</div>"
     },
     "execution_count": 76,
     "metadata": {},
     "output_type": "execute_result"
    }
   ],
   "source": [
    "topUsersRating = topUsers.merge(rating, left_on='userId', right_on='userId', how='inner')\n",
    "topUsersRating.head()"
   ],
   "metadata": {
    "collapsed": false,
    "ExecuteTime": {
     "end_time": "2023-12-17T17:12:27.142161200Z",
     "start_time": "2023-12-17T17:12:26.098109800Z"
    }
   },
   "id": "5ab929c417994793"
  },
  {
   "cell_type": "code",
   "execution_count": 77,
   "outputs": [
    {
     "data": {
      "text/plain": "   similarityIndex  userId  movieId  rating  weightedRating\n0         0.964486    9305        1     1.0        0.964486\n1         0.964486    9305        2     1.0        0.964486\n2         0.964486    9305       11     1.0        0.964486\n3         0.964486    9305       21     1.0        0.964486\n4         0.964486    9305       32     2.0        1.928971",
      "text/html": "<div>\n<style scoped>\n    .dataframe tbody tr th:only-of-type {\n        vertical-align: middle;\n    }\n\n    .dataframe tbody tr th {\n        vertical-align: top;\n    }\n\n    .dataframe thead th {\n        text-align: right;\n    }\n</style>\n<table border=\"1\" class=\"dataframe\">\n  <thead>\n    <tr style=\"text-align: right;\">\n      <th></th>\n      <th>similarityIndex</th>\n      <th>userId</th>\n      <th>movieId</th>\n      <th>rating</th>\n      <th>weightedRating</th>\n    </tr>\n  </thead>\n  <tbody>\n    <tr>\n      <th>0</th>\n      <td>0.964486</td>\n      <td>9305</td>\n      <td>1</td>\n      <td>1.0</td>\n      <td>0.964486</td>\n    </tr>\n    <tr>\n      <th>1</th>\n      <td>0.964486</td>\n      <td>9305</td>\n      <td>2</td>\n      <td>1.0</td>\n      <td>0.964486</td>\n    </tr>\n    <tr>\n      <th>2</th>\n      <td>0.964486</td>\n      <td>9305</td>\n      <td>11</td>\n      <td>1.0</td>\n      <td>0.964486</td>\n    </tr>\n    <tr>\n      <th>3</th>\n      <td>0.964486</td>\n      <td>9305</td>\n      <td>21</td>\n      <td>1.0</td>\n      <td>0.964486</td>\n    </tr>\n    <tr>\n      <th>4</th>\n      <td>0.964486</td>\n      <td>9305</td>\n      <td>32</td>\n      <td>2.0</td>\n      <td>1.928971</td>\n    </tr>\n  </tbody>\n</table>\n</div>"
     },
     "execution_count": 77,
     "metadata": {},
     "output_type": "execute_result"
    }
   ],
   "source": [
    "topUsersRating['weightedRating'] = topUsersRating['similarityIndex'] * topUsersRating['rating']\n",
    "topUsersRating.head()"
   ],
   "metadata": {
    "collapsed": false,
    "ExecuteTime": {
     "end_time": "2023-12-17T17:12:41.707375700Z",
     "start_time": "2023-12-17T17:12:41.531255500Z"
    }
   },
   "id": "2b3a56a10b0bb5fd"
  },
  {
   "cell_type": "code",
   "execution_count": 78,
   "outputs": [
    {
     "data": {
      "text/plain": "         sum_similarityIndex  sum_weightedRating\nmovieId                                         \n1                  30.998297          105.356196\n2                  30.998297           85.222713\n3                   9.567244           21.072345\n4                   0.888910            2.289317\n5                   5.368970           13.468631",
      "text/html": "<div>\n<style scoped>\n    .dataframe tbody tr th:only-of-type {\n        vertical-align: middle;\n    }\n\n    .dataframe tbody tr th {\n        vertical-align: top;\n    }\n\n    .dataframe thead th {\n        text-align: right;\n    }\n</style>\n<table border=\"1\" class=\"dataframe\">\n  <thead>\n    <tr style=\"text-align: right;\">\n      <th></th>\n      <th>sum_similarityIndex</th>\n      <th>sum_weightedRating</th>\n    </tr>\n    <tr>\n      <th>movieId</th>\n      <th></th>\n      <th></th>\n    </tr>\n  </thead>\n  <tbody>\n    <tr>\n      <th>1</th>\n      <td>30.998297</td>\n      <td>105.356196</td>\n    </tr>\n    <tr>\n      <th>2</th>\n      <td>30.998297</td>\n      <td>85.222713</td>\n    </tr>\n    <tr>\n      <th>3</th>\n      <td>9.567244</td>\n      <td>21.072345</td>\n    </tr>\n    <tr>\n      <th>4</th>\n      <td>0.888910</td>\n      <td>2.289317</td>\n    </tr>\n    <tr>\n      <th>5</th>\n      <td>5.368970</td>\n      <td>13.468631</td>\n    </tr>\n  </tbody>\n</table>\n</div>"
     },
     "execution_count": 78,
     "metadata": {},
     "output_type": "execute_result"
    }
   ],
   "source": [
    "tempTopUsersRating = topUsersRating.groupby('movieId').sum()[['similarityIndex', 'weightedRating']]\n",
    "tempTopUsersRating.columns = ['sum_similarityIndex', 'sum_weightedRating']\n",
    "tempTopUsersRating.head()"
   ],
   "metadata": {
    "collapsed": false,
    "ExecuteTime": {
     "end_time": "2023-12-17T17:12:47.933066600Z",
     "start_time": "2023-12-17T17:12:47.815659Z"
    }
   },
   "id": "fd271f9e758d2e48"
  },
  {
   "cell_type": "code",
   "execution_count": 79,
   "outputs": [
    {
     "data": {
      "text/plain": "         weighted average recommendation score  movieId\nmovieId                                                \n1                                     3.398774        1\n2                                     2.749271        2\n3                                     2.202551        3\n4                                     2.575419        4\n5                                     2.508606        5",
      "text/html": "<div>\n<style scoped>\n    .dataframe tbody tr th:only-of-type {\n        vertical-align: middle;\n    }\n\n    .dataframe tbody tr th {\n        vertical-align: top;\n    }\n\n    .dataframe thead th {\n        text-align: right;\n    }\n</style>\n<table border=\"1\" class=\"dataframe\">\n  <thead>\n    <tr style=\"text-align: right;\">\n      <th></th>\n      <th>weighted average recommendation score</th>\n      <th>movieId</th>\n    </tr>\n    <tr>\n      <th>movieId</th>\n      <th></th>\n      <th></th>\n    </tr>\n  </thead>\n  <tbody>\n    <tr>\n      <th>1</th>\n      <td>3.398774</td>\n      <td>1</td>\n    </tr>\n    <tr>\n      <th>2</th>\n      <td>2.749271</td>\n      <td>2</td>\n    </tr>\n    <tr>\n      <th>3</th>\n      <td>2.202551</td>\n      <td>3</td>\n    </tr>\n    <tr>\n      <th>4</th>\n      <td>2.575419</td>\n      <td>4</td>\n    </tr>\n    <tr>\n      <th>5</th>\n      <td>2.508606</td>\n      <td>5</td>\n    </tr>\n  </tbody>\n</table>\n</div>"
     },
     "execution_count": 79,
     "metadata": {},
     "output_type": "execute_result"
    }
   ],
   "source": [
    "recommendation_df = pd.DataFrame()\n",
    "#Now we take the weighted average\n",
    "recommendation_df['weighted average recommendation score'] = tempTopUsersRating['sum_weightedRating'] / \\\n",
    "                                                             tempTopUsersRating['sum_similarityIndex']\n",
    "recommendation_df['movieId'] = tempTopUsersRating.index\n",
    "recommendation_df.head()"
   ],
   "metadata": {
    "collapsed": false,
    "ExecuteTime": {
     "end_time": "2023-12-17T17:12:59.982915100Z",
     "start_time": "2023-12-17T17:12:59.786233100Z"
    }
   },
   "id": "a833406177a8bb4e"
  },
  {
   "cell_type": "code",
   "execution_count": 80,
   "outputs": [
    {
     "data": {
      "text/plain": "         weighted average recommendation score  movieId\nmovieId                                                \n4422                                       5.0     4422\n25744                                      5.0    25744\n42217                                      5.0    42217\n2068                                       5.0     2068\n1419                                       5.0     1419\n8785                                       5.0     8785\n93164                                      5.0    93164\n26587                                      5.0    26587\n1585                                       5.0     1585\n5408                                       5.0     5408",
      "text/html": "<div>\n<style scoped>\n    .dataframe tbody tr th:only-of-type {\n        vertical-align: middle;\n    }\n\n    .dataframe tbody tr th {\n        vertical-align: top;\n    }\n\n    .dataframe thead th {\n        text-align: right;\n    }\n</style>\n<table border=\"1\" class=\"dataframe\">\n  <thead>\n    <tr style=\"text-align: right;\">\n      <th></th>\n      <th>weighted average recommendation score</th>\n      <th>movieId</th>\n    </tr>\n    <tr>\n      <th>movieId</th>\n      <th></th>\n      <th></th>\n    </tr>\n  </thead>\n  <tbody>\n    <tr>\n      <th>4422</th>\n      <td>5.0</td>\n      <td>4422</td>\n    </tr>\n    <tr>\n      <th>25744</th>\n      <td>5.0</td>\n      <td>25744</td>\n    </tr>\n    <tr>\n      <th>42217</th>\n      <td>5.0</td>\n      <td>42217</td>\n    </tr>\n    <tr>\n      <th>2068</th>\n      <td>5.0</td>\n      <td>2068</td>\n    </tr>\n    <tr>\n      <th>1419</th>\n      <td>5.0</td>\n      <td>1419</td>\n    </tr>\n    <tr>\n      <th>8785</th>\n      <td>5.0</td>\n      <td>8785</td>\n    </tr>\n    <tr>\n      <th>93164</th>\n      <td>5.0</td>\n      <td>93164</td>\n    </tr>\n    <tr>\n      <th>26587</th>\n      <td>5.0</td>\n      <td>26587</td>\n    </tr>\n    <tr>\n      <th>1585</th>\n      <td>5.0</td>\n      <td>1585</td>\n    </tr>\n    <tr>\n      <th>5408</th>\n      <td>5.0</td>\n      <td>5408</td>\n    </tr>\n  </tbody>\n</table>\n</div>"
     },
     "execution_count": 80,
     "metadata": {},
     "output_type": "execute_result"
    }
   ],
   "source": [
    "recommendation_df = recommendation_df.sort_values(by='weighted average recommendation score', ascending=False)\n",
    "recommendation_df.head(10)"
   ],
   "metadata": {
    "collapsed": false,
    "ExecuteTime": {
     "end_time": "2023-12-17T17:13:06.774400700Z",
     "start_time": "2023-12-17T17:13:06.705482400Z"
    }
   },
   "id": "b6ebbbd49156ecc1"
  },
  {
   "cell_type": "code",
   "execution_count": 81,
   "outputs": [
    {
     "data": {
      "text/plain": "       movieId                                              title  year\n1385      1419                                          Walkabout  1971\n1533      1585                                      Love Serenade  1996\n1984      2068          Fanny and Alexander (Fanny och Alexander)  1982\n4327      4422            Cries and Whispers (Viskningar och rop)  1972\n5311      5408                                               Nora  2000\n8102      8785                             Early Summer (Bakushû)  1951\n8345     25744  Haxan: Witchcraft Through the Ages (a.k.a. The...  1922\n8937     26587                           Decalogue, The (Dekalog)  1989\n10709    42217                              Late Spring (Banshun)  1949\n18706    93164                     Sleep Tight (Mientras duermes)  2011",
      "text/html": "<div>\n<style scoped>\n    .dataframe tbody tr th:only-of-type {\n        vertical-align: middle;\n    }\n\n    .dataframe tbody tr th {\n        vertical-align: top;\n    }\n\n    .dataframe thead th {\n        text-align: right;\n    }\n</style>\n<table border=\"1\" class=\"dataframe\">\n  <thead>\n    <tr style=\"text-align: right;\">\n      <th></th>\n      <th>movieId</th>\n      <th>title</th>\n      <th>year</th>\n    </tr>\n  </thead>\n  <tbody>\n    <tr>\n      <th>1385</th>\n      <td>1419</td>\n      <td>Walkabout</td>\n      <td>1971</td>\n    </tr>\n    <tr>\n      <th>1533</th>\n      <td>1585</td>\n      <td>Love Serenade</td>\n      <td>1996</td>\n    </tr>\n    <tr>\n      <th>1984</th>\n      <td>2068</td>\n      <td>Fanny and Alexander (Fanny och Alexander)</td>\n      <td>1982</td>\n    </tr>\n    <tr>\n      <th>4327</th>\n      <td>4422</td>\n      <td>Cries and Whispers (Viskningar och rop)</td>\n      <td>1972</td>\n    </tr>\n    <tr>\n      <th>5311</th>\n      <td>5408</td>\n      <td>Nora</td>\n      <td>2000</td>\n    </tr>\n    <tr>\n      <th>8102</th>\n      <td>8785</td>\n      <td>Early Summer (Bakushû)</td>\n      <td>1951</td>\n    </tr>\n    <tr>\n      <th>8345</th>\n      <td>25744</td>\n      <td>Haxan: Witchcraft Through the Ages (a.k.a. The...</td>\n      <td>1922</td>\n    </tr>\n    <tr>\n      <th>8937</th>\n      <td>26587</td>\n      <td>Decalogue, The (Dekalog)</td>\n      <td>1989</td>\n    </tr>\n    <tr>\n      <th>10709</th>\n      <td>42217</td>\n      <td>Late Spring (Banshun)</td>\n      <td>1949</td>\n    </tr>\n    <tr>\n      <th>18706</th>\n      <td>93164</td>\n      <td>Sleep Tight (Mientras duermes)</td>\n      <td>2011</td>\n    </tr>\n  </tbody>\n</table>\n</div>"
     },
     "execution_count": 81,
     "metadata": {},
     "output_type": "execute_result"
    }
   ],
   "source": [
    "movie.loc[movie['movieId'].isin(recommendation_df.head(10)['movieId'].tolist())]"
   ],
   "metadata": {
    "collapsed": false,
    "ExecuteTime": {
     "end_time": "2023-12-17T17:13:20.203583200Z",
     "start_time": "2023-12-17T17:13:20.141576900Z"
    }
   },
   "id": "f7113913ae4cb952"
  },
  {
   "cell_type": "code",
   "execution_count": null,
   "outputs": [],
   "source": [],
   "metadata": {
    "collapsed": false
   },
   "id": "ab8c12c7aa00dea2"
  }
 ],
 "metadata": {
  "kernelspec": {
   "display_name": "Python 3",
   "language": "python",
   "name": "python3"
  },
  "language_info": {
   "codemirror_mode": {
    "name": "ipython",
    "version": 2
   },
   "file_extension": ".py",
   "mimetype": "text/x-python",
   "name": "python",
   "nbconvert_exporter": "python",
   "pygments_lexer": "ipython2",
   "version": "2.7.6"
  }
 },
 "nbformat": 4,
 "nbformat_minor": 5
}
