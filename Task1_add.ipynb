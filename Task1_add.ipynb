{
 "cells": [
  {
   "cell_type": "code",
   "execution_count": 72,
   "outputs": [
    {
     "name": "stdout",
     "output_type": "stream",
     "text": [
      "(4, 13)\n"
     ]
    }
   ],
   "source": [
    "import pandas as pd\n",
    "\n",
    "# Створення порожніх словників для обчислення добутків та сум елементів\n",
    "prod1 = {}\n",
    "sum1 = {}\n",
    "\n",
    "# Обчислення добутків та сум елементів для чисел у заданому діапазоні\n",
    "for i in range(2, 100):\n",
    "    for j in range(i, 100):\n",
    "        prod1[(i, j)] = i * j\n",
    "        sum1[(i, j)] = i + j\n",
    "\n",
    "# Створення DataFrame для обробки даних про суми та добутки\n",
    "df1 = pd.DataFrame({\"numbers\": sum1.keys(), \"sums\": sum1.values()})\n",
    "df2 = pd.DataFrame({\"numbers\": prod1.keys(), \"prod\": prod1.values()})\n",
    "\n",
    "# Вилучення дублікатів з df2 та об'єднання з вихідним df2\n",
    "df2_uniq = df2.drop_duplicates(subset=[\"prod\"], keep=False)\n",
    "df2 = pd.concat([df2, df2_uniq]).drop_duplicates(keep=False)\n",
    "\n",
    "# Відбір рядків у df1, де сума не парне число та менше або дорівнює 55\n",
    "df1 = df1[df1['sums'] % 2 != 0]\n",
    "df1 = df1[df1['sums'] <= 55]\n",
    "\n",
    "# Визначення функції для перевірки простих чисел та вилучення рядків, які задовольняють умові\n",
    "def is_prime(num):\n",
    "    for i in range(2, num):\n",
    "        if (num % i) == 0:\n",
    "            return False\n",
    "    return True\n",
    "\n",
    "df1 = df1[~(df1['sums'] - 2).apply(is_prime)]\n",
    "\n",
    "# Вилучення рядків, які задовольняють певним умовам на основі перевірки простих чисел\n",
    "for i, j in df1[\"numbers\"]:\n",
    "    if is_prime(i) == False and is_prime(j) == False or is_prime(i) == True and is_prime(j) == True:\n",
    "        df1 = df1.drop(df1[df1[\"numbers\"] == (i,j)].index)\n",
    "\n",
    "# Злиття даних з df1 та df2 на основі стовпця \"numbers\"\n",
    "df3 = pd.merge(df1, df2, on=\"numbers\")\n",
    "\n",
    "# Вилучення дублікатів у df3 з урахуванням стовпця \"prod\" та \"sums\"\n",
    "df3 = df3.drop_duplicates(subset=[\"prod\"], keep=False)\n",
    "df3 = df3.drop_duplicates(subset=[\"sums\"], keep=False)\n",
    "\n",
    "# Виведення першого значення зі стовпця \"numbers\" у відфільтрованому df3\n",
    "print(df3['numbers'].iloc[0])"
   ],
   "metadata": {
    "collapsed": false,
    "ExecuteTime": {
     "end_time": "2023-10-20T20:32:22.029572300Z",
     "start_time": "2023-10-20T20:32:21.983370Z"
    }
   },
   "id": "f0d05f45c7a5eeb2"
  },
  {
   "cell_type": "code",
   "execution_count": null,
   "outputs": [],
   "source": [],
   "metadata": {
    "collapsed": false
   },
   "id": "8e5933af7d7143f"
  }
 ],
 "metadata": {
  "kernelspec": {
   "display_name": "Python 3",
   "language": "python",
   "name": "python3"
  },
  "language_info": {
   "codemirror_mode": {
    "name": "ipython",
    "version": 2
   },
   "file_extension": ".py",
   "mimetype": "text/x-python",
   "name": "python",
   "nbconvert_exporter": "python",
   "pygments_lexer": "ipython2",
   "version": "2.7.6"
  }
 },
 "nbformat": 4,
 "nbformat_minor": 5
}
