{
 "cells": [
  {
   "cell_type": "code",
   "execution_count": 96,
   "outputs": [
    {
     "name": "stdout",
     "output_type": "stream",
     "text": [
      "     numbers  sums  prod\n",
      "72       3 4     7    12\n",
      "3024   69 96   165  6624\n",
      "3072   84 84   168  7056\n"
     ]
    }
   ],
   "source": [
    "import pandas as pd\n",
    "\n",
    "prod1 = {}\n",
    "sum1 = {}\n",
    "\n",
    "# Створюємо словник з усіма можлими добутками та сумами\n",
    "for i in range(2, 100):\n",
    "    for j in range(i, 100):\n",
    "        prod1[f\"{i} {j}\"] = i * j\n",
    "        sum1[f\"{i} {j}\"] = i + j\n",
    "\n",
    "# Створюємо DataFrames для добутків та сум\n",
    "df1 = pd.DataFrame({\"numbers\": sum1.keys(), \"sums\": sum1.values()})\n",
    "df2 = pd.DataFrame({\"numbers\": prod1.keys(), \"prod\": prod1.values()})\n",
    "\n",
    "# Знаходимо унікальні значення для добутків та сум\n",
    "df2_uniq = df2.drop_duplicates(subset=[\"prod\"], keep=False)\n",
    "df2 = pd.concat([df2, df2_uniq]).drop_duplicates(keep=False)\n",
    "\n",
    "# Зливаємо DataFrames для добутків та сум\n",
    "df3 = pd.merge(df1, df2, on=\"numbers\")\n",
    "\n",
    "# Знаходимо унікальні значення для сум та добутків\n",
    "df3 = df3.drop_duplicates(subset=[\"sums\"], keep=False)\n",
    "df3 = df3.drop_duplicates(subset=[\"prod\"], keep=False)\n",
    "    \n",
    "# Виводимо результат\n",
    "print(df3)"
   ],
   "metadata": {
    "collapsed": false,
    "ExecuteTime": {
     "end_time": "2023-10-11T20:36:07.908779900Z",
     "start_time": "2023-10-11T20:36:07.882962200Z"
    }
   },
   "id": "f0d05f45c7a5eeb2"
  },
  {
   "cell_type": "code",
   "execution_count": null,
   "outputs": [],
   "source": [],
   "metadata": {
    "collapsed": false
   },
   "id": "8e5933af7d7143f"
  }
 ],
 "metadata": {
  "kernelspec": {
   "display_name": "Python 3",
   "language": "python",
   "name": "python3"
  },
  "language_info": {
   "codemirror_mode": {
    "name": "ipython",
    "version": 2
   },
   "file_extension": ".py",
   "mimetype": "text/x-python",
   "name": "python",
   "nbconvert_exporter": "python",
   "pygments_lexer": "ipython2",
   "version": "2.7.6"
  }
 },
 "nbformat": 4,
 "nbformat_minor": 5
}
