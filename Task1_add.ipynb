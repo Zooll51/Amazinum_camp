{
 "cells": [
  {
   "cell_type": "code",
   "execution_count": 24,
   "outputs": [
    {
     "name": "stdout",
     "output_type": "stream",
     "text": [
      "(3, 4)\n"
     ]
    }
   ],
   "source": [
    "import pandas as pd\n",
    "\n",
    "prod1 = {}\n",
    "sum1 = {}\n",
    "\n",
    "# Створюємо словник з усіма можлими добутками та сумами\n",
    "for i in range(2, 100):\n",
    "    for j in range(i, 100):\n",
    "        prod1[(i, j)] = i * j\n",
    "        sum1[(i, j)] = i + j\n",
    "\n",
    "# Створюємо DataFrames для добутків та сум\n",
    "df1 = pd.DataFrame({\"numbers\": sum1.keys(), \"sums\": sum1.values()})\n",
    "df2 = pd.DataFrame({\"numbers\": prod1.keys(), \"prod\": prod1.values()})\n",
    "\n",
    "# Знаходимо унікальні значення для добутків та сум\n",
    "df2_uniq = df2.drop_duplicates(subset=[\"prod\"], keep=False)\n",
    "df2 = pd.concat([df2, df2_uniq]).drop_duplicates(keep=False)\n",
    "\n",
    "# Зливаємо DataFrames для добутків та сум\n",
    "df3 = pd.merge(df1, df2, on=\"numbers\")\n",
    "df3 = df3.drop_duplicates(subset=[\"sums\"], keep=False)\n",
    "\n",
    "for i, j in df3[\"numbers\"]:\n",
    "    if i * 2 >= 100 and j * 2 >= 100:\n",
    "        df3 = df3.drop(df3[df3[\"numbers\"] == (i,j)].index)\n",
    "        \n",
    "\n",
    "\n",
    "    \n",
    "# Виводимо результат\n",
    "print(df3['numbers'].iloc[0])\n"
   ],
   "metadata": {
    "collapsed": false,
    "ExecuteTime": {
     "end_time": "2023-10-19T18:41:53.393961400Z",
     "start_time": "2023-10-19T18:41:53.356425400Z"
    }
   },
   "id": "f0d05f45c7a5eeb2"
  },
  {
   "cell_type": "code",
   "execution_count": null,
   "outputs": [],
   "source": [],
   "metadata": {
    "collapsed": false
   },
   "id": "8e5933af7d7143f"
  }
 ],
 "metadata": {
  "kernelspec": {
   "display_name": "Python 3",
   "language": "python",
   "name": "python3"
  },
  "language_info": {
   "codemirror_mode": {
    "name": "ipython",
    "version": 2
   },
   "file_extension": ".py",
   "mimetype": "text/x-python",
   "name": "python",
   "nbconvert_exporter": "python",
   "pygments_lexer": "ipython2",
   "version": "2.7.6"
  }
 },
 "nbformat": 4,
 "nbformat_minor": 5
}
