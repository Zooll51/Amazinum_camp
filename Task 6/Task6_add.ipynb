{
 "cells": [
  {
   "cell_type": "code",
   "execution_count": 33,
   "id": "initial_id",
   "metadata": {
    "collapsed": true,
    "ExecuteTime": {
     "end_time": "2023-10-27T18:27:14.145502900Z",
     "start_time": "2023-10-27T18:27:14.087887900Z"
    }
   },
   "outputs": [],
   "source": [
    "import pandas as pd \n",
    "import numpy as np \n",
    "from sklearn.model_selection import train_test_split\n",
    "from sklearn.datasets import load_diabetes"
   ]
  },
  {
   "cell_type": "code",
   "execution_count": 34,
   "outputs": [
    {
     "data": {
      "text/plain": "          age       sex       bmi        bp        s1        s2        s3  \\\n0    0.038076  0.050680  0.061696  0.021872 -0.044223 -0.034821 -0.043401   \n1   -0.001882 -0.044642 -0.051474 -0.026328 -0.008449 -0.019163  0.074412   \n2    0.085299  0.050680  0.044451 -0.005670 -0.045599 -0.034194 -0.032356   \n3   -0.089063 -0.044642 -0.011595 -0.036656  0.012191  0.024991 -0.036038   \n4    0.005383 -0.044642 -0.036385  0.021872  0.003935  0.015596  0.008142   \n..        ...       ...       ...       ...       ...       ...       ...   \n437  0.041708  0.050680  0.019662  0.059744 -0.005697 -0.002566 -0.028674   \n438 -0.005515  0.050680 -0.015906 -0.067642  0.049341  0.079165 -0.028674   \n439  0.041708  0.050680 -0.015906  0.017293 -0.037344 -0.013840 -0.024993   \n440 -0.045472 -0.044642  0.039062  0.001215  0.016318  0.015283 -0.028674   \n441 -0.045472 -0.044642 -0.073030 -0.081413  0.083740  0.027809  0.173816   \n\n           s4        s5        s6  target  \n0   -0.002592  0.019907 -0.017646   151.0  \n1   -0.039493 -0.068332 -0.092204    75.0  \n2   -0.002592  0.002861 -0.025930   141.0  \n3    0.034309  0.022688 -0.009362   206.0  \n4   -0.002592 -0.031988 -0.046641   135.0  \n..        ...       ...       ...     ...  \n437 -0.002592  0.031193  0.007207   178.0  \n438  0.034309 -0.018114  0.044485   104.0  \n439 -0.011080 -0.046883  0.015491   132.0  \n440  0.026560  0.044529 -0.025930   220.0  \n441 -0.039493 -0.004222  0.003064    57.0  \n\n[442 rows x 11 columns]",
      "text/html": "<div>\n<style scoped>\n    .dataframe tbody tr th:only-of-type {\n        vertical-align: middle;\n    }\n\n    .dataframe tbody tr th {\n        vertical-align: top;\n    }\n\n    .dataframe thead th {\n        text-align: right;\n    }\n</style>\n<table border=\"1\" class=\"dataframe\">\n  <thead>\n    <tr style=\"text-align: right;\">\n      <th></th>\n      <th>age</th>\n      <th>sex</th>\n      <th>bmi</th>\n      <th>bp</th>\n      <th>s1</th>\n      <th>s2</th>\n      <th>s3</th>\n      <th>s4</th>\n      <th>s5</th>\n      <th>s6</th>\n      <th>target</th>\n    </tr>\n  </thead>\n  <tbody>\n    <tr>\n      <th>0</th>\n      <td>0.038076</td>\n      <td>0.050680</td>\n      <td>0.061696</td>\n      <td>0.021872</td>\n      <td>-0.044223</td>\n      <td>-0.034821</td>\n      <td>-0.043401</td>\n      <td>-0.002592</td>\n      <td>0.019907</td>\n      <td>-0.017646</td>\n      <td>151.0</td>\n    </tr>\n    <tr>\n      <th>1</th>\n      <td>-0.001882</td>\n      <td>-0.044642</td>\n      <td>-0.051474</td>\n      <td>-0.026328</td>\n      <td>-0.008449</td>\n      <td>-0.019163</td>\n      <td>0.074412</td>\n      <td>-0.039493</td>\n      <td>-0.068332</td>\n      <td>-0.092204</td>\n      <td>75.0</td>\n    </tr>\n    <tr>\n      <th>2</th>\n      <td>0.085299</td>\n      <td>0.050680</td>\n      <td>0.044451</td>\n      <td>-0.005670</td>\n      <td>-0.045599</td>\n      <td>-0.034194</td>\n      <td>-0.032356</td>\n      <td>-0.002592</td>\n      <td>0.002861</td>\n      <td>-0.025930</td>\n      <td>141.0</td>\n    </tr>\n    <tr>\n      <th>3</th>\n      <td>-0.089063</td>\n      <td>-0.044642</td>\n      <td>-0.011595</td>\n      <td>-0.036656</td>\n      <td>0.012191</td>\n      <td>0.024991</td>\n      <td>-0.036038</td>\n      <td>0.034309</td>\n      <td>0.022688</td>\n      <td>-0.009362</td>\n      <td>206.0</td>\n    </tr>\n    <tr>\n      <th>4</th>\n      <td>0.005383</td>\n      <td>-0.044642</td>\n      <td>-0.036385</td>\n      <td>0.021872</td>\n      <td>0.003935</td>\n      <td>0.015596</td>\n      <td>0.008142</td>\n      <td>-0.002592</td>\n      <td>-0.031988</td>\n      <td>-0.046641</td>\n      <td>135.0</td>\n    </tr>\n    <tr>\n      <th>...</th>\n      <td>...</td>\n      <td>...</td>\n      <td>...</td>\n      <td>...</td>\n      <td>...</td>\n      <td>...</td>\n      <td>...</td>\n      <td>...</td>\n      <td>...</td>\n      <td>...</td>\n      <td>...</td>\n    </tr>\n    <tr>\n      <th>437</th>\n      <td>0.041708</td>\n      <td>0.050680</td>\n      <td>0.019662</td>\n      <td>0.059744</td>\n      <td>-0.005697</td>\n      <td>-0.002566</td>\n      <td>-0.028674</td>\n      <td>-0.002592</td>\n      <td>0.031193</td>\n      <td>0.007207</td>\n      <td>178.0</td>\n    </tr>\n    <tr>\n      <th>438</th>\n      <td>-0.005515</td>\n      <td>0.050680</td>\n      <td>-0.015906</td>\n      <td>-0.067642</td>\n      <td>0.049341</td>\n      <td>0.079165</td>\n      <td>-0.028674</td>\n      <td>0.034309</td>\n      <td>-0.018114</td>\n      <td>0.044485</td>\n      <td>104.0</td>\n    </tr>\n    <tr>\n      <th>439</th>\n      <td>0.041708</td>\n      <td>0.050680</td>\n      <td>-0.015906</td>\n      <td>0.017293</td>\n      <td>-0.037344</td>\n      <td>-0.013840</td>\n      <td>-0.024993</td>\n      <td>-0.011080</td>\n      <td>-0.046883</td>\n      <td>0.015491</td>\n      <td>132.0</td>\n    </tr>\n    <tr>\n      <th>440</th>\n      <td>-0.045472</td>\n      <td>-0.044642</td>\n      <td>0.039062</td>\n      <td>0.001215</td>\n      <td>0.016318</td>\n      <td>0.015283</td>\n      <td>-0.028674</td>\n      <td>0.026560</td>\n      <td>0.044529</td>\n      <td>-0.025930</td>\n      <td>220.0</td>\n    </tr>\n    <tr>\n      <th>441</th>\n      <td>-0.045472</td>\n      <td>-0.044642</td>\n      <td>-0.073030</td>\n      <td>-0.081413</td>\n      <td>0.083740</td>\n      <td>0.027809</td>\n      <td>0.173816</td>\n      <td>-0.039493</td>\n      <td>-0.004222</td>\n      <td>0.003064</td>\n      <td>57.0</td>\n    </tr>\n  </tbody>\n</table>\n<p>442 rows × 11 columns</p>\n</div>"
     },
     "execution_count": 34,
     "metadata": {},
     "output_type": "execute_result"
    }
   ],
   "source": [
    "diabetes = load_diabetes()\n",
    "df = pd.DataFrame (diabetes.data, columns=diabetes.feature_names)\n",
    "df[\"target\"] = diabetes.target\n",
    "df"
   ],
   "metadata": {
    "collapsed": false,
    "ExecuteTime": {
     "end_time": "2023-10-27T18:27:14.185448500Z",
     "start_time": "2023-10-27T18:27:14.091623300Z"
    }
   },
   "id": "1ec8bd83dfae64ac"
  },
  {
   "cell_type": "markdown",
   "source": [
    "<font color = blue >\n",
    "\n",
    "### Load data\n",
    "\n",
    "</font>"
   ],
   "metadata": {
    "collapsed": false
   },
   "id": "e1cd4a5525e1397b"
  },
  {
   "cell_type": "code",
   "execution_count": 35,
   "outputs": [],
   "source": [
    "X, y = load_diabetes(return_X_y=True)\n",
    "\n",
    "X_train, X_test, y_train, y_test =  train_test_split(X, y, random_state=0)\n"
   ],
   "metadata": {
    "collapsed": false,
    "ExecuteTime": {
     "end_time": "2023-10-27T18:27:14.202452200Z",
     "start_time": "2023-10-27T18:27:14.118616200Z"
    }
   },
   "id": "7aa72f02ccaecd05"
  },
  {
   "cell_type": "markdown",
   "source": [
    "<font color = blue >\n",
    "\n",
    "### Ridge\n",
    "\n",
    "</font>"
   ],
   "metadata": {
    "collapsed": false
   },
   "id": "dd73bf2a712245ef"
  },
  {
   "cell_type": "code",
   "execution_count": 36,
   "outputs": [
    {
     "name": "stdout",
     "output_type": "stream",
     "text": [
      "\t\t Ridge\n",
      "train score = 0.4625420370188341\n",
      "test score = 0.3569596077458861\n",
      "b: 152.44773563271542, \n",
      "w= [  21.2000037   -60.47643128  302.87680545  179.41025522    8.90955986\n",
      "  -28.80767284 -149.30718882  112.67212884  250.53509464   99.57769388]\n"
     ]
    }
   ],
   "source": [
    "from sklearn.linear_model import Ridge\n",
    "ridge = Ridge().fit(X_train,y_train)\n",
    "print(\"\\t\\t Ridge\")\n",
    "print ('train score =', ridge.score(X_train, y_train))\n",
    "print ('test score =', ridge.score(X_test, y_test))\n",
    "print ('b: {}, \\nw= {}'.format(ridge.intercept_, ridge.coef_)) "
   ],
   "metadata": {
    "collapsed": false,
    "ExecuteTime": {
     "end_time": "2023-10-27T18:27:14.203453600Z",
     "start_time": "2023-10-27T18:27:14.128468200Z"
    }
   },
   "id": "46de5c905f64efdc"
  },
  {
   "cell_type": "markdown",
   "source": [
    "<font color = blue >\n",
    "\n",
    "### Lasso\n",
    "\n",
    "</font>"
   ],
   "metadata": {
    "collapsed": false
   },
   "id": "7506aae4bef8da69"
  },
  {
   "cell_type": "code",
   "execution_count": 37,
   "outputs": [
    {
     "name": "stdout",
     "output_type": "stream",
     "text": [
      "\t\t Lasso\n",
      "train score = 0.41412350907212847\n",
      "test score = 0.27818075944340903\n",
      "b: 152.5225704010766, \n",
      "w= [  0.          -0.         442.68199652   0.           0.\n",
      "   0.          -0.           0.         330.75515534   0.        ]\n"
     ]
    }
   ],
   "source": [
    "from sklearn.linear_model import Lasso\n",
    "lasso = Lasso().fit(X_train, y_train)\n",
    "print(\"\\t\\t Lasso\")\n",
    "print ('train score =', lasso.score(X_train, y_train))\n",
    "print ('test score =', lasso.score(X_test, y_test))\n",
    "print ('b: {}, \\nw= {}'.format(lasso.intercept_, lasso.coef_)) "
   ],
   "metadata": {
    "collapsed": false,
    "ExecuteTime": {
     "end_time": "2023-10-27T18:27:14.205453700Z",
     "start_time": "2023-10-27T18:27:14.137499500Z"
    }
   },
   "id": "ef7d3dbafa9f2fa8"
  },
  {
   "cell_type": "markdown",
   "source": [
    "<font color = blue >\n",
    "\n",
    "### Normal equation\n",
    "\n",
    "</font>"
   ],
   "metadata": {
    "collapsed": false
   },
   "id": "5cfec0e5cbec8d8b"
  },
  {
   "cell_type": "code",
   "execution_count": 38,
   "outputs": [
    {
     "name": "stdout",
     "output_type": "stream",
     "text": [
      "R2 train score = 0.5554337250189862\n",
      "R2 test score = 0.3594088038177713\n",
      "\t\t Normal Equation\n",
      "train score = 0.5554337250189862\n",
      "test score = 0.3594088038177713\n",
      "b: 153.06786205925636, \n",
      "w= [[ -43.26198867 -208.66589855  593.40654802  302.89100542 -560.19094014\n",
      "   261.40753499   -8.86674758  135.93174293  703.18354112   28.34977176]]\n"
     ]
    }
   ],
   "source": [
    "from sklearn.metrics import r2_score\n",
    "m,n = X_train.shape\n",
    "X_train_ext =  np.c_[(np.ones((m,1)),X_train)]\n",
    "\n",
    "theta_best = np.linalg.pinv (X_train_ext.T @ X_train_ext ) @ X_train_ext.T @ y_train\n",
    "\n",
    "b = theta_best[0]\n",
    "w= theta_best[1:].reshape (1,-1) \n",
    "\n",
    "z_train= b+ X_train @ w.T\n",
    "z_test= b+ X_test @ w.T\n",
    "\n",
    "print ('R2 train score =',  r2_score(y_train,z_train))\n",
    "print ('R2 test score =', r2_score(y_test,z_test))\n",
    "\n",
    "print(\"\\t\\t Normal Equation\")\n",
    "print ('train score =', r2_score(y_train,z_train))\n",
    "print ('test score =', r2_score(y_test,z_test))\n",
    "print ('b: {}, \\nw= {}'.format(b, w)) "
   ],
   "metadata": {
    "collapsed": false,
    "ExecuteTime": {
     "end_time": "2023-10-27T18:27:14.218454700Z",
     "start_time": "2023-10-27T18:27:14.145502900Z"
    }
   },
   "id": "5a7a08d362ef4fda"
  },
  {
   "cell_type": "markdown",
   "source": [
    "<font color = blue >\n",
    "\n",
    "### Polynomial\n",
    "\n",
    "</font>"
   ],
   "metadata": {
    "collapsed": false
   },
   "id": "663ea46b239bdbef"
  },
  {
   "cell_type": "code",
   "execution_count": 39,
   "outputs": [
    {
     "name": "stdout",
     "output_type": "stream",
     "text": [
      "Polynomial\n",
      "train score = 0.6468832036299191\n",
      "test score = 0.24404238040833892\n",
      "b: 192.36859410864065, \n",
      "w= [ 4.08660617e+01 -2.10695877e+02  5.42875786e+02  3.03465834e+02\n",
      "  1.25067359e+04 -1.10983971e+04 -4.92675936e+03  3.60115737e+01\n",
      " -3.36037930e+03 -2.15946538e+01  1.57764145e+03  4.09673775e+03\n",
      " -1.54587290e+02  2.62705961e+02  2.12603719e+03 -8.33694659e+03\n",
      "  3.45562214e+03  4.53293819e+03  2.16947034e+03  1.97490392e+03\n",
      " -1.27228331e+00  1.55724091e+03  2.70726785e+03  8.56911639e+03\n",
      " -6.80664194e+03 -9.43289243e+02 -9.86886433e+01 -2.88574321e+03\n",
      " -6.30985720e+01  9.67053011e+00  2.48301063e+03 -3.63075587e+03\n",
      "  8.22733150e+02  4.36358686e+03  5.16883877e+03  2.55757516e+03\n",
      " -1.80369094e+03  6.55902428e+02  2.51821818e+03  1.97310159e+03\n",
      " -1.58146171e+03 -4.80203617e+03 -2.50534944e+03 -1.67092125e+03\n",
      "  8.93269641e+04 -1.29552478e+05 -9.26010175e+04 -4.56968437e+04\n",
      " -1.28037924e+05 -1.20520899e+04  4.81240429e+04  6.08870878e+04\n",
      "  2.51037435e+04  1.03045658e+05  9.98362729e+03  2.75479203e+04\n",
      "  3.49963109e+04  5.30824945e+04  7.16219175e+03  1.29243507e+04\n",
      "  1.28448498e+04  2.77598131e+03  1.22370963e+04  2.93451450e+03\n",
      "  3.00924519e+03]\n"
     ]
    }
   ],
   "source": [
    "from sklearn.preprocessing import PolynomialFeatures\n",
    "from sklearn.linear_model import LinearRegression\n",
    "poly= PolynomialFeatures(degree=2,include_bias=False) \n",
    "X_train_poly= poly.fit_transform(X_train)\n",
    "X_test_poly = poly.transform(X_test)\n",
    "\n",
    "# X_train_poly[:5]\n",
    "poly_lin_reg = LinearRegression().fit (X_train_poly,y_train)\n",
    "print ('Polynomial')\n",
    "print ('train score =', poly_lin_reg.score(X_train_poly, y_train))\n",
    "print ('test score =', poly_lin_reg.score(X_test_poly, y_test))\n",
    "print ('b: {}, \\nw= {}'.format(poly_lin_reg.intercept_, poly_lin_reg.coef_)) "
   ],
   "metadata": {
    "collapsed": false,
    "ExecuteTime": {
     "end_time": "2023-10-27T18:27:14.219456700Z",
     "start_time": "2023-10-27T18:27:14.157360400Z"
    }
   },
   "id": "dcd9a0c8d4660807"
  },
  {
   "cell_type": "code",
   "execution_count": 39,
   "outputs": [],
   "source": [],
   "metadata": {
    "collapsed": false,
    "ExecuteTime": {
     "end_time": "2023-10-27T18:27:14.219456700Z",
     "start_time": "2023-10-27T18:27:14.171749800Z"
    }
   },
   "id": "146964a4d7e2ca40"
  }
 ],
 "metadata": {
  "kernelspec": {
   "display_name": "Python 3",
   "language": "python",
   "name": "python3"
  },
  "language_info": {
   "codemirror_mode": {
    "name": "ipython",
    "version": 2
   },
   "file_extension": ".py",
   "mimetype": "text/x-python",
   "name": "python",
   "nbconvert_exporter": "python",
   "pygments_lexer": "ipython2",
   "version": "2.7.6"
  }
 },
 "nbformat": 4,
 "nbformat_minor": 5
}
