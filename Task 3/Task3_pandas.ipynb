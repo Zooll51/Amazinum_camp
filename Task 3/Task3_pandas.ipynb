{
 "cells": [
  {
   "cell_type": "markdown",
   "metadata": {},
   "source": [
    "# Home task: pandas \n",
    "\n",
    "## Question 1\n",
    "\n",
    "- Load the energy data from the file [Energy Indicators.xls](http://unstats.un.org/unsd/environment/excel_file_tables/2013/Energy%20Indicators.xls).\n",
    "It is a list of indicators of energy supply and renewable electricity production from the United Nations for the year 2013.\n",
    "\n",
    "\n",
    "- It should be put into a DataFrame with the variable name of \"energy\"\n",
    "\n",
    "\n",
    "- Make sure to exclude the footer and header information from the datafile.\n",
    "\n",
    "\n",
    "- The first two columns are unneccessary, so you should get rid of them, and you should change the column labels so that the columns are:<br>\n",
    "`['Country', 'Energy Supply', 'Energy Supply per Capita', '% Renewable']`\n",
    "\n",
    "\n",
    "- Convert `Energy Supply` to gigajoules (there are 1,000,000 gigajoules in a petajoule).\n",
    "\n",
    "\n",
    "- For all countries which have missing data (e.g. data with `...`) make sure this is reflected as `np.NaN` values.\n",
    "\n",
    "\n",
    "- Rename the following list of countries (for use in later questions):\n",
    "    - `Republic of Korea`: `South Korea`,\n",
    "    - `United States of America`: `United States`,\n",
    "    - `United Kingdom of Great Britain and Northern Ireland`: `United Kingdom`,\n",
    "    - `China, Hong Kong Special Administrative Region`: `Hong Kong`\n",
    "\n",
    "\n",
    "- There are also several countries with numbers and/or parenthesis in their name. Be sure to remove these, e.g.:\n",
    "    - `Bolivia (Plurinational State of)` should be `Bolivia`,\n",
    "    - `Switzerland17` should be `Switzerland`.\n",
    "\n",
    "\n",
    "- Next, load the GDP data from the file [\"world_bank.csv\"](http://data.worldbank.org/indicator/NY.GDP.MKTP.CD). \n",
    "It is a csv containing countries' GDP from 1960 to 2015 from World Bank. Call this DataFrame \"GDP\"\n",
    "\n",
    "\n",
    "- Make sure to skip the header, and rename the following list of countries:\n",
    "    - `Korea, Rep.`: `South Korea`,\n",
    "    - `Iran, Islamic Rep.`: `Iran`,\n",
    "    - `Hong Kong SAR, China`: `Hong Kong`\n",
    "\n",
    "\n",
    "- Finally, load the \"Sciamgo Journal and Country Rank data for [Energy Engineering and Power Technology\"](http://www.scimagojr.com/countryrank.php?category=2102). It ranks countries based on their journal contributions in the aforementioned area. Call this DataFrame \"ScimEn\"\n",
    "\n",
    "\n",
    "- Join the three datasets: Energy, GDP, and ScimEn into a new dataset (using the intersection of country names). Use only the 10 years (2006-2015) of GDP data and only the top 15 countries by Scimagojr 'Rank' (Rank 1 through 15).\n",
    "\n",
    "\n",
    "- The index of this DataFrame should be the name of the country, and the columns should be<br>\n",
    "`['Rank', 'Documents', 'Citable documents', 'Citations', 'Self-citations', 'Citations per document', 'H index', 'Energy Supply', 'Energy Supply per Capita', '% Renewable', '2006', '2007', '2008', '2009', '2010', '2011', 2012', '2013', '2014', '2015']`\n",
    "\n",
    "Function \"answer_one\" should return the resulted DataFrame (20 columns and 15 entries)"
   ]
  },
  {
   "cell_type": "code",
   "execution_count": 91,
   "outputs": [
    {
     "data": {
      "text/plain": "                    Rank  Documents  Citable documents  Citations  \\\nCountry                                                             \nChina                  1     360468             358777    3947871   \nUnited States          2     199442             195042    3068926   \nIndia                  3      76103              74167     760964   \nJapan                  4      56249              55680     633294   \nUnited Kingdom         5      52572              51156     909276   \nGermany                6      47781              46767     641717   \nRussian Federation     7      43567              43290     175721   \nCanada                 8      39036              38276     787010   \nItaly                  9      35991              34424     529459   \nSouth Korea           10      35294              35005     503147   \nIran                  11      29776              29448     511199   \nFrance                12      29351              28759     471469   \nSpain                 13      27880              27272     515485   \nAustralia             14      25906              25237     495278   \nBrazil                15      25887              25493     260540   \n\n                    Self-citations  Citations per document  H index  \\\nCountry                                                               \nChina                      2705774                   10.95      308   \nUnited States               881789                   15.39      422   \nIndia                       280893                   10.00      217   \nJapan                       136132                   11.26      217   \nUnited Kingdom              151672                   17.30      267   \nGermany                     133693                   13.43      230   \nRussian Federation           79765                    4.03      103   \nCanada                      125333                   20.16      263   \nItaly                       123042                   14.71      192   \nSouth Korea                  87529                   14.26      182   \nIran                        150489                   17.17      179   \nFrance                       79375                   16.06      205   \nSpain                        88803                   18.49      202   \nAustralia                    72475                   19.12      212   \nBrazil                       60487                   10.06      145   \n\n                    Energy Supply  Energy Supply per Capita  % Renewable  \\\nCountry                                                                    \nChina                1.271910e+11                      93.0    19.754910   \nUnited States        9.083800e+10                     286.0    11.570980   \nIndia                3.319500e+10                      26.0    14.969080   \nJapan                1.898400e+10                     149.0    10.232820   \nUnited Kingdom       7.920000e+09                     124.0    10.600470   \nGermany              1.326100e+10                     165.0    17.901530   \nRussian Federation   3.070900e+10                     214.0    17.288680   \nCanada               1.043100e+10                     296.0    61.945430   \nItaly                6.530000e+09                     109.0    33.667230   \nSouth Korea          1.100700e+10                     221.0     2.279353   \nIran                 9.172000e+09                     119.0     5.707721   \nFrance               1.059700e+10                     166.0    17.020280   \nSpain                4.923000e+09                     106.0    37.968590   \nAustralia            5.386000e+09                     231.0    11.810810   \nBrazil               1.214900e+10                      59.0    69.648030   \n\n                            2006          2007          2008          2009  \\\nCountry                                                                      \nChina               2.752119e+12  3.550328e+12  4.594337e+12  5.101691e+12   \nUnited States       1.381559e+13  1.447423e+13  1.476986e+13  1.447806e+13   \nIndia               9.402599e+11  1.216736e+12  1.198895e+12  1.341888e+12   \nJapan               4.601663e+12  4.579750e+12  5.106679e+12  5.289494e+12   \nUnited Kingdom      2.709978e+12  3.092996e+12  2.931684e+12  2.417566e+12   \nGermany             2.994704e+12  3.425578e+12  3.745264e+12  3.411261e+12   \nRussian Federation  9.899321e+11  1.299703e+12  1.660848e+12  1.222646e+12   \nCanada              1.319265e+12  1.468820e+12  1.552990e+12  1.374625e+12   \nItaly               1.949552e+12  2.213102e+12  2.408655e+12  2.199929e+12   \nSouth Korea         1.053217e+12  1.172614e+12  1.047339e+12  9.439419e+11   \nIran                2.662989e+11  3.498816e+11  4.123362e+11  4.163970e+11   \nFrance              2.320536e+12  2.660591e+12  2.930304e+12  2.700887e+12   \nSpain               1.260399e+12  1.474003e+12  1.631863e+12  1.491473e+12   \nAustralia           7.479074e+11  8.544273e+11  1.055686e+12  9.286298e+11   \nBrazil              1.107627e+12  1.397114e+12  1.695855e+12  1.666996e+12   \n\n                            2010          2011          2012          2013  \\\nCountry                                                                      \nChina               6.087192e+12  7.551545e+12  8.532186e+12  9.570471e+12   \nUnited States       1.504896e+13  1.559973e+13  1.625397e+13  1.684319e+13   \nIndia               1.675616e+12  1.823052e+12  1.827638e+12  1.856721e+12   \nJapan               5.759072e+12  6.233147e+12  6.272363e+12  5.212328e+12   \nUnited Kingdom      2.491397e+12  2.666403e+12  2.706341e+12  2.786315e+12   \nGermany             3.399668e+12  3.749315e+12  3.527143e+12  3.733805e+12   \nRussian Federation  1.524917e+12  2.045923e+12  2.208294e+12  2.292470e+12   \nCanada              1.617343e+12  1.793327e+12  1.828366e+12  1.846597e+12   \nItaly               2.136100e+12  2.294994e+12  2.086958e+12  2.141924e+12   \nSouth Korea         1.144067e+12  1.253223e+12  1.278428e+12  1.370795e+12   \nIran                4.868076e+11  6.261331e+11  6.440355e+11  4.927756e+11   \nFrance              2.645188e+12  2.865158e+12  2.683672e+12  2.811877e+12   \nSpain               1.422108e+12  1.480710e+12  1.324751e+12  1.355580e+12   \nAustralia           1.148570e+12  1.398456e+12  1.546953e+12  1.576330e+12   \nBrazil              2.208838e+12  2.616157e+12  2.465228e+12  2.472819e+12   \n\n                            2014          2015  \nCountry                                         \nChina               1.047562e+13  1.106157e+13  \nUnited States       1.755068e+13  1.820602e+13  \nIndia               2.039126e+12  2.103588e+12  \nJapan               4.896994e+12  4.444931e+12  \nUnited Kingdom      3.065223e+12  2.934858e+12  \nGermany             3.889093e+12  3.357586e+12  \nRussian Federation  2.059242e+12  1.363482e+12  \nCanada              1.805750e+12  1.556509e+12  \nItaly               2.162010e+12  1.836638e+12  \nSouth Korea         1.484318e+12  1.465773e+12  \nIran                4.603828e+11  4.082129e+11  \nFrance              2.855964e+12  2.439189e+12  \nSpain               1.371821e+12  1.196157e+12  \nAustralia           1.467590e+12  1.350580e+12  \nBrazil              2.456044e+12  1.802212e+12  ",
      "text/html": "<div>\n<style scoped>\n    .dataframe tbody tr th:only-of-type {\n        vertical-align: middle;\n    }\n\n    .dataframe tbody tr th {\n        vertical-align: top;\n    }\n\n    .dataframe thead th {\n        text-align: right;\n    }\n</style>\n<table border=\"1\" class=\"dataframe\">\n  <thead>\n    <tr style=\"text-align: right;\">\n      <th></th>\n      <th>Rank</th>\n      <th>Documents</th>\n      <th>Citable documents</th>\n      <th>Citations</th>\n      <th>Self-citations</th>\n      <th>Citations per document</th>\n      <th>H index</th>\n      <th>Energy Supply</th>\n      <th>Energy Supply per Capita</th>\n      <th>% Renewable</th>\n      <th>2006</th>\n      <th>2007</th>\n      <th>2008</th>\n      <th>2009</th>\n      <th>2010</th>\n      <th>2011</th>\n      <th>2012</th>\n      <th>2013</th>\n      <th>2014</th>\n      <th>2015</th>\n    </tr>\n    <tr>\n      <th>Country</th>\n      <th></th>\n      <th></th>\n      <th></th>\n      <th></th>\n      <th></th>\n      <th></th>\n      <th></th>\n      <th></th>\n      <th></th>\n      <th></th>\n      <th></th>\n      <th></th>\n      <th></th>\n      <th></th>\n      <th></th>\n      <th></th>\n      <th></th>\n      <th></th>\n      <th></th>\n      <th></th>\n    </tr>\n  </thead>\n  <tbody>\n    <tr>\n      <th>China</th>\n      <td>1</td>\n      <td>360468</td>\n      <td>358777</td>\n      <td>3947871</td>\n      <td>2705774</td>\n      <td>10.95</td>\n      <td>308</td>\n      <td>1.271910e+11</td>\n      <td>93.0</td>\n      <td>19.754910</td>\n      <td>2.752119e+12</td>\n      <td>3.550328e+12</td>\n      <td>4.594337e+12</td>\n      <td>5.101691e+12</td>\n      <td>6.087192e+12</td>\n      <td>7.551545e+12</td>\n      <td>8.532186e+12</td>\n      <td>9.570471e+12</td>\n      <td>1.047562e+13</td>\n      <td>1.106157e+13</td>\n    </tr>\n    <tr>\n      <th>United States</th>\n      <td>2</td>\n      <td>199442</td>\n      <td>195042</td>\n      <td>3068926</td>\n      <td>881789</td>\n      <td>15.39</td>\n      <td>422</td>\n      <td>9.083800e+10</td>\n      <td>286.0</td>\n      <td>11.570980</td>\n      <td>1.381559e+13</td>\n      <td>1.447423e+13</td>\n      <td>1.476986e+13</td>\n      <td>1.447806e+13</td>\n      <td>1.504896e+13</td>\n      <td>1.559973e+13</td>\n      <td>1.625397e+13</td>\n      <td>1.684319e+13</td>\n      <td>1.755068e+13</td>\n      <td>1.820602e+13</td>\n    </tr>\n    <tr>\n      <th>India</th>\n      <td>3</td>\n      <td>76103</td>\n      <td>74167</td>\n      <td>760964</td>\n      <td>280893</td>\n      <td>10.00</td>\n      <td>217</td>\n      <td>3.319500e+10</td>\n      <td>26.0</td>\n      <td>14.969080</td>\n      <td>9.402599e+11</td>\n      <td>1.216736e+12</td>\n      <td>1.198895e+12</td>\n      <td>1.341888e+12</td>\n      <td>1.675616e+12</td>\n      <td>1.823052e+12</td>\n      <td>1.827638e+12</td>\n      <td>1.856721e+12</td>\n      <td>2.039126e+12</td>\n      <td>2.103588e+12</td>\n    </tr>\n    <tr>\n      <th>Japan</th>\n      <td>4</td>\n      <td>56249</td>\n      <td>55680</td>\n      <td>633294</td>\n      <td>136132</td>\n      <td>11.26</td>\n      <td>217</td>\n      <td>1.898400e+10</td>\n      <td>149.0</td>\n      <td>10.232820</td>\n      <td>4.601663e+12</td>\n      <td>4.579750e+12</td>\n      <td>5.106679e+12</td>\n      <td>5.289494e+12</td>\n      <td>5.759072e+12</td>\n      <td>6.233147e+12</td>\n      <td>6.272363e+12</td>\n      <td>5.212328e+12</td>\n      <td>4.896994e+12</td>\n      <td>4.444931e+12</td>\n    </tr>\n    <tr>\n      <th>United Kingdom</th>\n      <td>5</td>\n      <td>52572</td>\n      <td>51156</td>\n      <td>909276</td>\n      <td>151672</td>\n      <td>17.30</td>\n      <td>267</td>\n      <td>7.920000e+09</td>\n      <td>124.0</td>\n      <td>10.600470</td>\n      <td>2.709978e+12</td>\n      <td>3.092996e+12</td>\n      <td>2.931684e+12</td>\n      <td>2.417566e+12</td>\n      <td>2.491397e+12</td>\n      <td>2.666403e+12</td>\n      <td>2.706341e+12</td>\n      <td>2.786315e+12</td>\n      <td>3.065223e+12</td>\n      <td>2.934858e+12</td>\n    </tr>\n    <tr>\n      <th>Germany</th>\n      <td>6</td>\n      <td>47781</td>\n      <td>46767</td>\n      <td>641717</td>\n      <td>133693</td>\n      <td>13.43</td>\n      <td>230</td>\n      <td>1.326100e+10</td>\n      <td>165.0</td>\n      <td>17.901530</td>\n      <td>2.994704e+12</td>\n      <td>3.425578e+12</td>\n      <td>3.745264e+12</td>\n      <td>3.411261e+12</td>\n      <td>3.399668e+12</td>\n      <td>3.749315e+12</td>\n      <td>3.527143e+12</td>\n      <td>3.733805e+12</td>\n      <td>3.889093e+12</td>\n      <td>3.357586e+12</td>\n    </tr>\n    <tr>\n      <th>Russian Federation</th>\n      <td>7</td>\n      <td>43567</td>\n      <td>43290</td>\n      <td>175721</td>\n      <td>79765</td>\n      <td>4.03</td>\n      <td>103</td>\n      <td>3.070900e+10</td>\n      <td>214.0</td>\n      <td>17.288680</td>\n      <td>9.899321e+11</td>\n      <td>1.299703e+12</td>\n      <td>1.660848e+12</td>\n      <td>1.222646e+12</td>\n      <td>1.524917e+12</td>\n      <td>2.045923e+12</td>\n      <td>2.208294e+12</td>\n      <td>2.292470e+12</td>\n      <td>2.059242e+12</td>\n      <td>1.363482e+12</td>\n    </tr>\n    <tr>\n      <th>Canada</th>\n      <td>8</td>\n      <td>39036</td>\n      <td>38276</td>\n      <td>787010</td>\n      <td>125333</td>\n      <td>20.16</td>\n      <td>263</td>\n      <td>1.043100e+10</td>\n      <td>296.0</td>\n      <td>61.945430</td>\n      <td>1.319265e+12</td>\n      <td>1.468820e+12</td>\n      <td>1.552990e+12</td>\n      <td>1.374625e+12</td>\n      <td>1.617343e+12</td>\n      <td>1.793327e+12</td>\n      <td>1.828366e+12</td>\n      <td>1.846597e+12</td>\n      <td>1.805750e+12</td>\n      <td>1.556509e+12</td>\n    </tr>\n    <tr>\n      <th>Italy</th>\n      <td>9</td>\n      <td>35991</td>\n      <td>34424</td>\n      <td>529459</td>\n      <td>123042</td>\n      <td>14.71</td>\n      <td>192</td>\n      <td>6.530000e+09</td>\n      <td>109.0</td>\n      <td>33.667230</td>\n      <td>1.949552e+12</td>\n      <td>2.213102e+12</td>\n      <td>2.408655e+12</td>\n      <td>2.199929e+12</td>\n      <td>2.136100e+12</td>\n      <td>2.294994e+12</td>\n      <td>2.086958e+12</td>\n      <td>2.141924e+12</td>\n      <td>2.162010e+12</td>\n      <td>1.836638e+12</td>\n    </tr>\n    <tr>\n      <th>South Korea</th>\n      <td>10</td>\n      <td>35294</td>\n      <td>35005</td>\n      <td>503147</td>\n      <td>87529</td>\n      <td>14.26</td>\n      <td>182</td>\n      <td>1.100700e+10</td>\n      <td>221.0</td>\n      <td>2.279353</td>\n      <td>1.053217e+12</td>\n      <td>1.172614e+12</td>\n      <td>1.047339e+12</td>\n      <td>9.439419e+11</td>\n      <td>1.144067e+12</td>\n      <td>1.253223e+12</td>\n      <td>1.278428e+12</td>\n      <td>1.370795e+12</td>\n      <td>1.484318e+12</td>\n      <td>1.465773e+12</td>\n    </tr>\n    <tr>\n      <th>Iran</th>\n      <td>11</td>\n      <td>29776</td>\n      <td>29448</td>\n      <td>511199</td>\n      <td>150489</td>\n      <td>17.17</td>\n      <td>179</td>\n      <td>9.172000e+09</td>\n      <td>119.0</td>\n      <td>5.707721</td>\n      <td>2.662989e+11</td>\n      <td>3.498816e+11</td>\n      <td>4.123362e+11</td>\n      <td>4.163970e+11</td>\n      <td>4.868076e+11</td>\n      <td>6.261331e+11</td>\n      <td>6.440355e+11</td>\n      <td>4.927756e+11</td>\n      <td>4.603828e+11</td>\n      <td>4.082129e+11</td>\n    </tr>\n    <tr>\n      <th>France</th>\n      <td>12</td>\n      <td>29351</td>\n      <td>28759</td>\n      <td>471469</td>\n      <td>79375</td>\n      <td>16.06</td>\n      <td>205</td>\n      <td>1.059700e+10</td>\n      <td>166.0</td>\n      <td>17.020280</td>\n      <td>2.320536e+12</td>\n      <td>2.660591e+12</td>\n      <td>2.930304e+12</td>\n      <td>2.700887e+12</td>\n      <td>2.645188e+12</td>\n      <td>2.865158e+12</td>\n      <td>2.683672e+12</td>\n      <td>2.811877e+12</td>\n      <td>2.855964e+12</td>\n      <td>2.439189e+12</td>\n    </tr>\n    <tr>\n      <th>Spain</th>\n      <td>13</td>\n      <td>27880</td>\n      <td>27272</td>\n      <td>515485</td>\n      <td>88803</td>\n      <td>18.49</td>\n      <td>202</td>\n      <td>4.923000e+09</td>\n      <td>106.0</td>\n      <td>37.968590</td>\n      <td>1.260399e+12</td>\n      <td>1.474003e+12</td>\n      <td>1.631863e+12</td>\n      <td>1.491473e+12</td>\n      <td>1.422108e+12</td>\n      <td>1.480710e+12</td>\n      <td>1.324751e+12</td>\n      <td>1.355580e+12</td>\n      <td>1.371821e+12</td>\n      <td>1.196157e+12</td>\n    </tr>\n    <tr>\n      <th>Australia</th>\n      <td>14</td>\n      <td>25906</td>\n      <td>25237</td>\n      <td>495278</td>\n      <td>72475</td>\n      <td>19.12</td>\n      <td>212</td>\n      <td>5.386000e+09</td>\n      <td>231.0</td>\n      <td>11.810810</td>\n      <td>7.479074e+11</td>\n      <td>8.544273e+11</td>\n      <td>1.055686e+12</td>\n      <td>9.286298e+11</td>\n      <td>1.148570e+12</td>\n      <td>1.398456e+12</td>\n      <td>1.546953e+12</td>\n      <td>1.576330e+12</td>\n      <td>1.467590e+12</td>\n      <td>1.350580e+12</td>\n    </tr>\n    <tr>\n      <th>Brazil</th>\n      <td>15</td>\n      <td>25887</td>\n      <td>25493</td>\n      <td>260540</td>\n      <td>60487</td>\n      <td>10.06</td>\n      <td>145</td>\n      <td>1.214900e+10</td>\n      <td>59.0</td>\n      <td>69.648030</td>\n      <td>1.107627e+12</td>\n      <td>1.397114e+12</td>\n      <td>1.695855e+12</td>\n      <td>1.666996e+12</td>\n      <td>2.208838e+12</td>\n      <td>2.616157e+12</td>\n      <td>2.465228e+12</td>\n      <td>2.472819e+12</td>\n      <td>2.456044e+12</td>\n      <td>1.802212e+12</td>\n    </tr>\n  </tbody>\n</table>\n</div>"
     },
     "execution_count": 91,
     "metadata": {},
     "output_type": "execute_result"
    }
   ],
   "source": [
    "import pandas as pd\n",
    "import numpy as np\n",
    "import re\n",
    "def answer_one():\n",
    "    name_coloms =  ['Country', 'Energy Supply', 'Energy Supply per Capita', '% Renewable']\n",
    "    energy = pd.read_excel(\"file/Energy Indicators.xls\", header=17 , skipfooter=37, usecols=[2, 3, 4, 5], names=name_coloms, na_values=\"...\")\n",
    "    GDP = pd.read_csv(\"file/world_bank.csv\", header=2)\n",
    "    ScimEn = pd.read_excel(\"file/Energy Engineering and Power Technology.xlsx\")\n",
    "    \n",
    "    energy[\"Country\"] = energy[\"Country\"].dropna().apply(lambda x:re.sub(\"\\d+\", \"\", x))\n",
    "    energy[\"Country\"] = energy[\"Country\"].dropna().apply(lambda x:re.sub(\" \\(.+\\)\", \"\", x)).str.strip()\n",
    "    energy[\"Country\"] = energy[\"Country\"].replace({\"Republic of Korea\": \"South Korea\",\n",
    "                                                   \"United States of America\": \"United States\",\n",
    "                                                   \"United Kingdom of Great Britain and Northern Ireland\": \"United Kingdom\",\n",
    "                                                   \"China, Hong Kong Special Administrative Region\": \"Hong Kong\"})\n",
    "    GDP[\"Country Name\"] = GDP[\"Country Name\"].replace({\"Korea, Rep.\": \"South Korea\",\n",
    "                                                       \"Iran, Islamic Rep.\": \"Iran\",\n",
    "                                                       \"Hong Kong SAR, China\": \"Hong Kong\"})\n",
    "    \n",
    "    energy[\"Energy Supply\"] = energy[\"Energy Supply\"] * 1000000\n",
    "    GDP = GDP.rename(columns={\"Country Name\": \"Country\"})\n",
    "    GDP = GDP[[\"Country\", \"2006\", \"2007\", \"2008\", \"2009\", \"2010\", \"2011\", \"2012\", \"2013\", \"2014\", \"2015\"]]\n",
    "    df = energy.merge(ScimEn, how=\"inner\",  on=\"Country\").merge(GDP, how=\"inner\", on=\"Country\").sort_values(\"Rank\")\n",
    "    df = df[df[\"Rank\"] <= 15]\n",
    "    df = df.reset_index(drop=True)\n",
    "    df = df.set_index(\"Country\")\n",
    "    df = df.reindex(columns=['Rank', 'Documents', 'Citable documents', 'Citations', 'Self-citations', 'Citations per document', 'H index', 'Energy Supply', 'Energy Supply per Capita', '% Renewable', '2006', '2007', '2008', '2009', '2010', '2011', '2012', '2013', '2014', '2015'])\n",
    "    return df\n",
    "answer_one()"
   ],
   "metadata": {
    "collapsed": false,
    "ExecuteTime": {
     "end_time": "2023-10-13T19:09:17.858852700Z",
     "start_time": "2023-10-13T19:09:17.714974300Z"
    }
   }
  },
  {
   "cell_type": "markdown",
   "source": [
    "## Answer the following questions in the context of only the top 15 countries by Scimagojr Rank (aka the DataFrame returned by `answer_one()`)"
   ],
   "metadata": {
    "collapsed": false
   }
  },
  {
   "cell_type": "markdown",
   "source": [
    "### Question 2\n",
    "What is the average GDP over the last 10 years for each country? (exclude missing values from this calculation.)\n",
    "\n",
    "*This function should return a Series named `avgGDP` with 15 countries and their average GDP sorted in descending order.*"
   ],
   "metadata": {
    "collapsed": false
   }
  },
  {
   "cell_type": "code",
   "execution_count": 92,
   "metadata": {
    "scrolled": true,
    "ExecuteTime": {
     "end_time": "2023-10-13T19:09:17.912248500Z",
     "start_time": "2023-10-13T19:09:17.806841100Z"
    }
   },
   "outputs": [
    {
     "data": {
      "text/plain": "Country\nUnited States         1.570403e+13\nChina                 6.927707e+12\nJapan                 5.239642e+12\nGermany               3.523342e+12\nUnited Kingdom        2.780276e+12\nFrance                2.691337e+12\nItaly                 2.142986e+12\nBrazil                1.988889e+12\nRussian Federation    1.666746e+12\nCanada                1.616359e+12\nIndia                 1.602352e+12\nSpain                 1.400886e+12\nSouth Korea           1.221372e+12\nAustralia             1.207513e+12\nIran                  4.563261e+11\nName: avgGDP, dtype: float64"
     },
     "execution_count": 92,
     "metadata": {},
     "output_type": "execute_result"
    }
   ],
   "source": [
    "def answer_two():\n",
    "    Top15 = answer_one()\n",
    "    Top15[\"avgGDP\"] = Top15[['2006', '2007', '2008','2009', '2010', '2011', '2012', '2013', '2014', '2015']].mean(axis=1)\n",
    "    Top15 = Top15.sort_values(\"avgGDP\", ascending=False)\n",
    "    df = pd.Series(Top15[\"avgGDP\"], index=Top15.index)\n",
    "    return df\n",
    "answer_two()"
   ]
  },
  {
   "cell_type": "markdown",
   "metadata": {},
   "source": [
    "### Question 3\n",
    "By how much had the GDP changed over the 10 year span for the country with the 6th largest average GDP?\n",
    "\n",
    "*This function should return a single number.*"
   ]
  },
  {
   "cell_type": "code",
   "execution_count": 93,
   "metadata": {
    "scrolled": true,
    "ExecuteTime": {
     "end_time": "2023-10-13T19:09:18.136527300Z",
     "start_time": "2023-10-13T19:09:17.891244700Z"
    }
   },
   "outputs": [
    {
     "data": {
      "text/plain": "118652421857.7998"
     },
     "execution_count": 93,
     "metadata": {},
     "output_type": "execute_result"
    }
   ],
   "source": [
    "def answer_three():\n",
    "    Top15 = answer_one()\n",
    "    Top15[\"avgGDP\"] = Top15[['2006', '2007', '2008','2009', '2010', '2011', '2012', '2013', '2014', '2015']].mean(axis=1)\n",
    "    Top15 = Top15.sort_values(\"avgGDP\", ascending=False)\n",
    "    persend = Top15.iloc[5]\n",
    "    res_per = persend.loc[\"2015\"] - persend.loc[\"2006\"]\n",
    "    return res_per\n",
    "answer_three()"
   ]
  },
  {
   "cell_type": "markdown",
   "metadata": {},
   "source": [
    "### Question 4\n",
    "\n",
    "Create a new column that is the ratio of Self-Citations to Total Citations. \n",
    "What is the maximum value for this new column, and what country has the highest ratio?\n",
    "\n",
    "*This function should return a tuple with the name of the country and the ratio.*"
   ]
  },
  {
   "cell_type": "code",
   "execution_count": 94,
   "metadata": {
    "ExecuteTime": {
     "end_time": "2023-10-13T19:09:18.171852200Z",
     "start_time": "2023-10-13T19:09:17.977263400Z"
    }
   },
   "outputs": [
    {
     "data": {
      "text/plain": "('China', 0.6853754846599598)"
     },
     "execution_count": 94,
     "metadata": {},
     "output_type": "execute_result"
    }
   ],
   "source": [
    "def answer_four():\n",
    "    Top15 = answer_one()\n",
    "    Top15[\"ratio Cita\"] = Top15[\"Self-citations\"] / Top15[\"Citations\"]\n",
    "    Top15 = Top15[\"ratio Cita\"].sort_values(ascending=False)\n",
    "    Top15 = Top15.reset_index(drop=False)\n",
    "    res = tuple(Top15.iloc[0])\n",
    "    return res\n",
    "answer_four()"
   ]
  },
  {
   "cell_type": "markdown",
   "metadata": {},
   "source": [
    "### Question 5\n",
    "\n",
    "Create a column that estimates the population using Energy Supply and Energy Supply per capita. \n",
    "What is the third most populous country according to this estimate?\n",
    "\n",
    "*This function should return a single string value.*"
   ]
  },
  {
   "cell_type": "code",
   "execution_count": 95,
   "metadata": {
    "ExecuteTime": {
     "end_time": "2023-10-13T19:09:18.377429800Z",
     "start_time": "2023-10-13T19:09:18.056503500Z"
    }
   },
   "outputs": [
    {
     "data": {
      "text/plain": "'United States'"
     },
     "execution_count": 95,
     "metadata": {},
     "output_type": "execute_result"
    }
   ],
   "source": [
    "def answer_five():\n",
    "    Top15 = answer_one()\n",
    "    Top15 = Top15[[\"Energy Supply\", \"Energy Supply per Capita\"]]\n",
    "    Top15[\"Estimates the population\"] = Top15[\"Energy Supply\"] / Top15[\"Energy Supply per Capita\"]\n",
    "    Top15 = Top15.sort_values(\"Estimates the population\", ascending=False)\n",
    "    return Top15.index[2]\n",
    "answer_five()"
   ]
  },
  {
   "cell_type": "markdown",
   "metadata": {},
   "source": [
    "### Question 6\n",
    "Create a column that estimates the number of citable documents per person. \n",
    "What is the correlation between the number of citable documents per capita and the energy supply per capita? Use the `.corr()` method, (Pearson's correlation).\n",
    "\n",
    "*This function should return a single number.*\n"
   ]
  },
  {
   "cell_type": "code",
   "execution_count": 96,
   "metadata": {
    "ExecuteTime": {
     "end_time": "2023-10-13T19:09:18.378430600Z",
     "start_time": "2023-10-13T19:09:18.240048500Z"
    }
   },
   "outputs": [
    {
     "data": {
      "text/plain": "0.7114342527331206"
     },
     "execution_count": 96,
     "metadata": {},
     "output_type": "execute_result"
    }
   ],
   "source": [
    "def answer_six():\n",
    "    Top15 = answer_one()\n",
    "    Top15[\"Estimates the population\"] = Top15[\"Energy Supply\"] / Top15[\"Energy Supply per Capita\"]\n",
    "    Top15[\"Estimates citable doc per person\"] = Top15[\"Citable documents\"] / Top15[\"Estimates the population\"]\n",
    "    Top15 = Top15[[\"Energy Supply per Capita\", \"Estimates citable doc per person\"]]\n",
    "    return Top15.corr().iloc[1].iloc[0]\n",
    "answer_six()"
   ]
  },
  {
   "cell_type": "markdown",
   "metadata": {},
   "source": [
    "### Question 7\n",
    "Use the following dictionary to group the Countries by Continent, then create a dateframe that displays the sample size (the number of countries in each continent bin), and the sum, mean, and std deviation for the estimated population of each country.\n",
    "\n",
    "```python\n",
    "ContinentDict  = {'China':'Asia', \n",
    "                  'United States':'North America', \n",
    "                  'Japan':'Asia', \n",
    "                  'United Kingdom':'Europe', \n",
    "                  'Russian Federation':'Europe', \n",
    "                  'Canada':'North America', \n",
    "                  'Germany':'Europe', \n",
    "                  'India':'Asia',\n",
    "                  'France':'Europe', \n",
    "                  'South Korea':'Asia', \n",
    "                  'Italy':'Europe', \n",
    "                  'Spain':'Europe', \n",
    "                  'Iran':'Asia',\n",
    "                  'Australia':'Australia', \n",
    "                  'Brazil':'South America'}\n",
    "```\n",
    "\n",
    "*This function should return a DataFrame with index named Continent `['Asia', 'Australia', 'Europe', 'North America', 'South America']` and columns `['size', 'sum', 'mean', 'std']`*"
   ]
  },
  {
   "cell_type": "code",
   "execution_count": 97,
   "metadata": {
    "ExecuteTime": {
     "end_time": "2023-10-13T19:09:18.481473900Z",
     "start_time": "2023-10-13T19:09:18.339421500Z"
    }
   },
   "outputs": [
    {
     "name": "stderr",
     "output_type": "stream",
     "text": [
      "C:\\Users\\Dima\\AppData\\Local\\Temp\\ipykernel_17860\\455595306.py:20: FutureWarning: The provided callable <function sum at 0x0000019D1FA24860> is currently using SeriesGroupBy.sum. In a future version of pandas, the provided callable will be used directly. To keep current behavior pass the string \"sum\" instead.\n",
      "  return Top15.groupby(\"Continents\")[\"Population\"].agg([np.size, np.sum, np.mean, np.std])\n",
      "C:\\Users\\Dima\\AppData\\Local\\Temp\\ipykernel_17860\\455595306.py:20: FutureWarning: The provided callable <function mean at 0x0000019D1FA25940> is currently using SeriesGroupBy.mean. In a future version of pandas, the provided callable will be used directly. To keep current behavior pass the string \"mean\" instead.\n",
      "  return Top15.groupby(\"Continents\")[\"Population\"].agg([np.size, np.sum, np.mean, np.std])\n",
      "C:\\Users\\Dima\\AppData\\Local\\Temp\\ipykernel_17860\\455595306.py:20: FutureWarning: The provided callable <function std at 0x0000019D1FA25A80> is currently using SeriesGroupBy.std. In a future version of pandas, the provided callable will be used directly. To keep current behavior pass the string \"std\" instead.\n",
      "  return Top15.groupby(\"Continents\")[\"Population\"].agg([np.size, np.sum, np.mean, np.std])\n"
     ]
    },
    {
     "data": {
      "text/plain": "               size           sum          mean           std\nContinents                                                   \nAsia              5  2.898666e+09  5.797333e+08  6.790979e+08\nAustralia         1  2.331602e+07  2.331602e+07           NaN\nEurope            6  4.579297e+08  7.632161e+07  3.464767e+07\nNorth America     2  3.528552e+08  1.764276e+08  1.996696e+08\nSouth America     1  2.059153e+08  2.059153e+08           NaN",
      "text/html": "<div>\n<style scoped>\n    .dataframe tbody tr th:only-of-type {\n        vertical-align: middle;\n    }\n\n    .dataframe tbody tr th {\n        vertical-align: top;\n    }\n\n    .dataframe thead th {\n        text-align: right;\n    }\n</style>\n<table border=\"1\" class=\"dataframe\">\n  <thead>\n    <tr style=\"text-align: right;\">\n      <th></th>\n      <th>size</th>\n      <th>sum</th>\n      <th>mean</th>\n      <th>std</th>\n    </tr>\n    <tr>\n      <th>Continents</th>\n      <th></th>\n      <th></th>\n      <th></th>\n      <th></th>\n    </tr>\n  </thead>\n  <tbody>\n    <tr>\n      <th>Asia</th>\n      <td>5</td>\n      <td>2.898666e+09</td>\n      <td>5.797333e+08</td>\n      <td>6.790979e+08</td>\n    </tr>\n    <tr>\n      <th>Australia</th>\n      <td>1</td>\n      <td>2.331602e+07</td>\n      <td>2.331602e+07</td>\n      <td>NaN</td>\n    </tr>\n    <tr>\n      <th>Europe</th>\n      <td>6</td>\n      <td>4.579297e+08</td>\n      <td>7.632161e+07</td>\n      <td>3.464767e+07</td>\n    </tr>\n    <tr>\n      <th>North America</th>\n      <td>2</td>\n      <td>3.528552e+08</td>\n      <td>1.764276e+08</td>\n      <td>1.996696e+08</td>\n    </tr>\n    <tr>\n      <th>South America</th>\n      <td>1</td>\n      <td>2.059153e+08</td>\n      <td>2.059153e+08</td>\n      <td>NaN</td>\n    </tr>\n  </tbody>\n</table>\n</div>"
     },
     "execution_count": 97,
     "metadata": {},
     "output_type": "execute_result"
    }
   ],
   "source": [
    "def answer_seven():\n",
    "    Top15 = answer_one()\n",
    "    ContinentDict  = {'China':'Asia',\n",
    "                      'United States':'North America',\n",
    "                      'Japan':'Asia',\n",
    "                      'United Kingdom':'Europe',\n",
    "                      'Russian Federation':'Europe',\n",
    "                      'Canada':'North America',\n",
    "                      'Germany':'Europe',\n",
    "                      'India':'Asia',\n",
    "                      'France':'Europe',\n",
    "                      'South Korea':'Asia',\n",
    "                      'Italy':'Europe',\n",
    "                      'Spain':'Europe',\n",
    "                      'Iran':'Asia',\n",
    "                      'Australia':'Australia',\n",
    "                      'Brazil':'South America'}\n",
    "    Top15[\"Population\"] = Top15[\"Energy Supply\"] / Top15[\"Energy Supply per Capita\"]\n",
    "    Top15[\"Continents\"] = pd.Series(ContinentDict)\n",
    "    return Top15.groupby(\"Continents\")[\"Population\"].agg([np.size, np.sum, np.mean, np.std])  \n",
    "answer_seven()"
   ]
  }
 ],
 "metadata": {
  "kernelspec": {
   "display_name": "Python 3 (ipykernel)",
   "language": "python",
   "name": "python3"
  },
  "language_info": {
   "codemirror_mode": {
    "name": "ipython",
    "version": 3
   },
   "file_extension": ".py",
   "mimetype": "text/x-python",
   "name": "python",
   "nbconvert_exporter": "python",
   "pygments_lexer": "ipython3",
   "version": "3.9.13"
  }
 },
 "nbformat": 4,
 "nbformat_minor": 4
}
