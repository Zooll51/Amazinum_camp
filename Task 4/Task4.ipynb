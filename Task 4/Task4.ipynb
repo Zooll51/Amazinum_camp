{
 "cells": [
  {
   "cell_type": "code",
   "execution_count": 16,
   "id": "initial_id",
   "metadata": {
    "collapsed": true,
    "ExecuteTime": {
     "end_time": "2023-10-19T19:22:04.121181200Z",
     "start_time": "2023-10-19T19:22:04.085788900Z"
    }
   },
   "outputs": [
    {
     "data": {
      "text/plain": "3"
     },
     "execution_count": 16,
     "metadata": {},
     "output_type": "execute_result"
    }
   ],
   "source": [
    "import pandas as pd\n",
    "import numpy as np\n",
    "\n",
    "df = pd.read_csv(\"Car_Insurance_Claim.csv\", index_col=\"Unnamed: 0\")\n",
    "#print(df.info())\n",
    "df[\"RACE\"].nunique()"
   ]
  },
  {
   "cell_type": "code",
   "execution_count": 14,
   "outputs": [
    {
     "data": {
      "text/plain": "          ID    AGE  GENDER      RACE DRIVING_EXPERIENCE    EDUCATION  \\\n1     750365  16-25    male  majority               0-9y         none   \n4     731664  26-39    male  majority             10-19y         none   \n7     461006  26-39  female  majority               0-9y   university   \n9     445911  40-64  female  majority               0-9y          NaN   \n17     24851  16-25    male  majority               0-9y         none   \n...      ...    ...     ...       ...                ...          ...   \n9984  443302  26-39  female  majority             10-19y  high school   \n9987  735333  40-64    male  majority             20-29y  high school   \n9988  479789  26-39    male  majority             10-19y  high school   \n9990  302403    NaN  female  majority               0-9y  high school   \n9998  903459  26-39  female  majority             10-19y  high school   \n\n             INCOME        CREDIT_SCORE VEHICLE_OWNERSHIP VEHICLE_YEAR  \\\n1           poverty  0.3577571170184627               0.0  before 2015   \n4     working class  0.3883658881572184               1.0  before 2015   \n7     working class   0.468689297434465               0.0   after 2015   \n9       upper class  0.5615310319383646               1.0  before 2015   \n17          poverty                 NaN               0.0  before 2015   \n...             ...                 ...               ...          ...   \n9984   middle class  0.6797949082598349               0.0  before 2015   \n9987  working class  0.2948824952892714               0.0  before 2015   \n9988        poverty                 NaN               0.0  before 2015   \n9990  working class   0.502119705029764               1.0  before 2015   \n9998        poverty  0.3641847847297929               0.0  before 2015   \n\n     MARRIED CHILDREN POSTAL_CODE ANNUAL_MILEAGE VEHICLE_TYPE  \\\n1        0.0      0.0       10238        16000.0        sedan   \n4        0.0      0.0     32765.0        12000.0        sedan   \n7        0.0      1.0       10238        14000.0        sedan   \n9        0.0      1.0       32765        11000.0        sedan   \n17       1.0      0.0       32765        12000.0        sedan   \n...      ...      ...         ...            ...          ...   \n9984     0.0      0.0       32765        15000.0        sedan   \n9987     0.0      0.0       32765        10000.0        sedan   \n9988     0.0      0.0       10238            NaN        sedan   \n9990     0.0      1.0       32765        10000.0        sedan   \n9998     0.0      1.0       10238        13000.0        sedan   \n\n     SPEEDING_VIOLATIONS DUIS PAST_ACCIDENTS OUTCOME  \n1                      0    0              0     1.0  \n4                      2    0              1     1.0  \n7                      0    0              0     1.0  \n9                      0    0              0     1.0  \n17                     0    0              0     1.0  \n...                  ...  ...            ...     ...  \n9984                   1    0              0     1.0  \n9987                   4    1              4     1.0  \n9988                   1    0              2     1.0  \n9990                   0    0              0     1.0  \n9998                   2    0              1     1.0  \n\n[3105 rows x 19 columns]",
      "text/html": "<div>\n<style scoped>\n    .dataframe tbody tr th:only-of-type {\n        vertical-align: middle;\n    }\n\n    .dataframe tbody tr th {\n        vertical-align: top;\n    }\n\n    .dataframe thead th {\n        text-align: right;\n    }\n</style>\n<table border=\"1\" class=\"dataframe\">\n  <thead>\n    <tr style=\"text-align: right;\">\n      <th></th>\n      <th>ID</th>\n      <th>AGE</th>\n      <th>GENDER</th>\n      <th>RACE</th>\n      <th>DRIVING_EXPERIENCE</th>\n      <th>EDUCATION</th>\n      <th>INCOME</th>\n      <th>CREDIT_SCORE</th>\n      <th>VEHICLE_OWNERSHIP</th>\n      <th>VEHICLE_YEAR</th>\n      <th>MARRIED</th>\n      <th>CHILDREN</th>\n      <th>POSTAL_CODE</th>\n      <th>ANNUAL_MILEAGE</th>\n      <th>VEHICLE_TYPE</th>\n      <th>SPEEDING_VIOLATIONS</th>\n      <th>DUIS</th>\n      <th>PAST_ACCIDENTS</th>\n      <th>OUTCOME</th>\n    </tr>\n  </thead>\n  <tbody>\n    <tr>\n      <th>1</th>\n      <td>750365</td>\n      <td>16-25</td>\n      <td>male</td>\n      <td>majority</td>\n      <td>0-9y</td>\n      <td>none</td>\n      <td>poverty</td>\n      <td>0.3577571170184627</td>\n      <td>0.0</td>\n      <td>before 2015</td>\n      <td>0.0</td>\n      <td>0.0</td>\n      <td>10238</td>\n      <td>16000.0</td>\n      <td>sedan</td>\n      <td>0</td>\n      <td>0</td>\n      <td>0</td>\n      <td>1.0</td>\n    </tr>\n    <tr>\n      <th>4</th>\n      <td>731664</td>\n      <td>26-39</td>\n      <td>male</td>\n      <td>majority</td>\n      <td>10-19y</td>\n      <td>none</td>\n      <td>working class</td>\n      <td>0.3883658881572184</td>\n      <td>1.0</td>\n      <td>before 2015</td>\n      <td>0.0</td>\n      <td>0.0</td>\n      <td>32765.0</td>\n      <td>12000.0</td>\n      <td>sedan</td>\n      <td>2</td>\n      <td>0</td>\n      <td>1</td>\n      <td>1.0</td>\n    </tr>\n    <tr>\n      <th>7</th>\n      <td>461006</td>\n      <td>26-39</td>\n      <td>female</td>\n      <td>majority</td>\n      <td>0-9y</td>\n      <td>university</td>\n      <td>working class</td>\n      <td>0.468689297434465</td>\n      <td>0.0</td>\n      <td>after 2015</td>\n      <td>0.0</td>\n      <td>1.0</td>\n      <td>10238</td>\n      <td>14000.0</td>\n      <td>sedan</td>\n      <td>0</td>\n      <td>0</td>\n      <td>0</td>\n      <td>1.0</td>\n    </tr>\n    <tr>\n      <th>9</th>\n      <td>445911</td>\n      <td>40-64</td>\n      <td>female</td>\n      <td>majority</td>\n      <td>0-9y</td>\n      <td>NaN</td>\n      <td>upper class</td>\n      <td>0.5615310319383646</td>\n      <td>1.0</td>\n      <td>before 2015</td>\n      <td>0.0</td>\n      <td>1.0</td>\n      <td>32765</td>\n      <td>11000.0</td>\n      <td>sedan</td>\n      <td>0</td>\n      <td>0</td>\n      <td>0</td>\n      <td>1.0</td>\n    </tr>\n    <tr>\n      <th>17</th>\n      <td>24851</td>\n      <td>16-25</td>\n      <td>male</td>\n      <td>majority</td>\n      <td>0-9y</td>\n      <td>none</td>\n      <td>poverty</td>\n      <td>NaN</td>\n      <td>0.0</td>\n      <td>before 2015</td>\n      <td>1.0</td>\n      <td>0.0</td>\n      <td>32765</td>\n      <td>12000.0</td>\n      <td>sedan</td>\n      <td>0</td>\n      <td>0</td>\n      <td>0</td>\n      <td>1.0</td>\n    </tr>\n    <tr>\n      <th>...</th>\n      <td>...</td>\n      <td>...</td>\n      <td>...</td>\n      <td>...</td>\n      <td>...</td>\n      <td>...</td>\n      <td>...</td>\n      <td>...</td>\n      <td>...</td>\n      <td>...</td>\n      <td>...</td>\n      <td>...</td>\n      <td>...</td>\n      <td>...</td>\n      <td>...</td>\n      <td>...</td>\n      <td>...</td>\n      <td>...</td>\n      <td>...</td>\n    </tr>\n    <tr>\n      <th>9984</th>\n      <td>443302</td>\n      <td>26-39</td>\n      <td>female</td>\n      <td>majority</td>\n      <td>10-19y</td>\n      <td>high school</td>\n      <td>middle class</td>\n      <td>0.6797949082598349</td>\n      <td>0.0</td>\n      <td>before 2015</td>\n      <td>0.0</td>\n      <td>0.0</td>\n      <td>32765</td>\n      <td>15000.0</td>\n      <td>sedan</td>\n      <td>1</td>\n      <td>0</td>\n      <td>0</td>\n      <td>1.0</td>\n    </tr>\n    <tr>\n      <th>9987</th>\n      <td>735333</td>\n      <td>40-64</td>\n      <td>male</td>\n      <td>majority</td>\n      <td>20-29y</td>\n      <td>high school</td>\n      <td>working class</td>\n      <td>0.2948824952892714</td>\n      <td>0.0</td>\n      <td>before 2015</td>\n      <td>0.0</td>\n      <td>0.0</td>\n      <td>32765</td>\n      <td>10000.0</td>\n      <td>sedan</td>\n      <td>4</td>\n      <td>1</td>\n      <td>4</td>\n      <td>1.0</td>\n    </tr>\n    <tr>\n      <th>9988</th>\n      <td>479789</td>\n      <td>26-39</td>\n      <td>male</td>\n      <td>majority</td>\n      <td>10-19y</td>\n      <td>high school</td>\n      <td>poverty</td>\n      <td>NaN</td>\n      <td>0.0</td>\n      <td>before 2015</td>\n      <td>0.0</td>\n      <td>0.0</td>\n      <td>10238</td>\n      <td>NaN</td>\n      <td>sedan</td>\n      <td>1</td>\n      <td>0</td>\n      <td>2</td>\n      <td>1.0</td>\n    </tr>\n    <tr>\n      <th>9990</th>\n      <td>302403</td>\n      <td>NaN</td>\n      <td>female</td>\n      <td>majority</td>\n      <td>0-9y</td>\n      <td>high school</td>\n      <td>working class</td>\n      <td>0.502119705029764</td>\n      <td>1.0</td>\n      <td>before 2015</td>\n      <td>0.0</td>\n      <td>1.0</td>\n      <td>32765</td>\n      <td>10000.0</td>\n      <td>sedan</td>\n      <td>0</td>\n      <td>0</td>\n      <td>0</td>\n      <td>1.0</td>\n    </tr>\n    <tr>\n      <th>9998</th>\n      <td>903459</td>\n      <td>26-39</td>\n      <td>female</td>\n      <td>majority</td>\n      <td>10-19y</td>\n      <td>high school</td>\n      <td>poverty</td>\n      <td>0.3641847847297929</td>\n      <td>0.0</td>\n      <td>before 2015</td>\n      <td>0.0</td>\n      <td>1.0</td>\n      <td>10238</td>\n      <td>13000.0</td>\n      <td>sedan</td>\n      <td>2</td>\n      <td>0</td>\n      <td>1</td>\n      <td>1.0</td>\n    </tr>\n  </tbody>\n</table>\n<p>3105 rows × 19 columns</p>\n</div>"
     },
     "execution_count": 14,
     "metadata": {},
     "output_type": "execute_result"
    }
   ],
   "source": [
    "\n",
    "df1 = df[df[\"OUTCOME\"]==\"1.0\"]\n",
    "df1"
   ],
   "metadata": {
    "collapsed": false,
    "ExecuteTime": {
     "end_time": "2023-10-19T19:16:13.165187600Z",
     "start_time": "2023-10-19T19:16:13.140010500Z"
    }
   },
   "id": "58d4c584af1eb44c"
  },
  {
   "cell_type": "code",
   "execution_count": null,
   "outputs": [],
   "source": [],
   "metadata": {
    "collapsed": false
   },
   "id": "5e530186d5fcd765"
  }
 ],
 "metadata": {
  "kernelspec": {
   "display_name": "Python 3",
   "language": "python",
   "name": "python3"
  },
  "language_info": {
   "codemirror_mode": {
    "name": "ipython",
    "version": 2
   },
   "file_extension": ".py",
   "mimetype": "text/x-python",
   "name": "python",
   "nbconvert_exporter": "python",
   "pygments_lexer": "ipython2",
   "version": "2.7.6"
  }
 },
 "nbformat": 4,
 "nbformat_minor": 5
}
