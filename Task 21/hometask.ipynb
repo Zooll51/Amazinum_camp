{
 "cells": [
  {
   "cell_type": "markdown",
   "source": [
    "<font color = green >\n",
    "\n",
    "## Home Task \n",
    "\n",
    "</font>\n"
   ],
   "metadata": {
    "collapsed": false
   },
   "id": "7b1cb06eefc5a5c1"
  },
  {
   "cell_type": "markdown",
   "source": [
    "The Task is to extract relevant infromation from the messy medical data using regex.\n",
    "\n",
    "Each line of the `dates.txt` file corresponds to a medical note. Each note has a date that needs to be extracted, but each date is encoded in one of many formats.\n",
    "\n",
    "The goal is to correctly identify all of the different date variants encoded in this dataset and to properly normalize and sort the dates. \n",
    "\n",
    "1) Extract the date strings\n",
    "Here is a list of some of the variants you might encounter in this dataset:\n",
    "* 04/20/2009; 04/20/09; 4/20/09; 4/3/09\n",
    "* Mar-20-2009; Mar 20, 2009; March 20, 2009;  Mar. 20, 2009; Mar 20 2009;\n",
    "* 20 Mar 2009; 20 March 2009; 20 Mar. 2009; 20 March, 2009\n",
    "* Mar 20th, 2009; Mar 21st, 2009; Mar 22nd, 2009\n",
    "* Feb 2009; Sep 2009; Oct 2010\n",
    "* 6/2008; 12/2009\n",
    "* 2009; 2010\n",
    "\n",
    "2) Normalize the extracted dates considering the following rules:  \n",
    "* Assume all dates in xx/xx/xx format are mm/dd/yy\n",
    "* Assume all dates where year is encoded in only two digits are years from the 1900's (e.g. 1/5/89 is January 5th, 1989)\n",
    "* If the day is missing (e.g. 9/2009), assume it is the first day of the month (e.g. September 1, 2009).\n",
    "* If the month is missing (e.g. 2010), assume it is the first of January of that year (e.g. January 1, 2010).\n",
    "\n",
    "3) Sort records in ascending chronological order accoring.\n",
    "\n",
    "\n"
   ],
   "metadata": {
    "collapsed": false
   },
   "id": "96a22e8928c58804"
  },
  {
   "cell_type": "code",
   "outputs": [
    {
     "data": {
      "text/plain": "0         03/25/93 Total time of visit (in minutes):\\n\n1                       6/18/85 Primary Care Doctor:\\n\n2    sshe plans to move as of 7/8/71 In-Home Servic...\n3                7 on 9/27/75 Audit C Score Current:\\n\n4    2/6/96 sleep studyPain Treatment Pain Level (N...\n5                    .Per 7/06/79 Movement D/O note:\\n\n6    4, 5/18/78 Patient's thoughts about current su...\n7    10/24/89 CPT Code: 90801 - Psychiatric Diagnos...\n8                         3/7/86 SOS-10 Total Score:\\n\n9             (4/10/71)Score-1Audit C Score Current:\\n\ndtype: object"
     },
     "execution_count": 2,
     "metadata": {},
     "output_type": "execute_result"
    }
   ],
   "source": [
    "import pandas as pd\n",
    "import numpy as np\n",
    "\n",
    "docs = []\n",
    "with open('dates.txt') as file:\n",
    "    for line in file:\n",
    "        docs.append(line)\n",
    "\n",
    "df = pd.Series(docs)\n",
    "df.head(10)\n",
    "# Note: This snippet is extracted just for high level review. You may read the file with the help of pandas or whatever convenient tool "
   ],
   "metadata": {
    "collapsed": false,
    "ExecuteTime": {
     "end_time": "2024-02-18T15:39:26.103915300Z",
     "start_time": "2024-02-18T15:39:23.556840Z"
    }
   },
   "id": "f3e35ad42ccfbee7",
   "execution_count": 2
  },
  {
   "cell_type": "markdown",
   "source": [
    "<font color = blue >\n",
    "\n",
    "### Expected Output\n",
    "\n",
    "</font>\n",
    "\n",
    "<table align= 'left'>\n",
    "    <tr><td></td><td> res</td><td>index</td></tr>\n",
    "    <tr><td>0</td><td> 1971-04-10</td><td>9</td></tr>    \n",
    "    <tr><td>1</td><td>1971-05-18</td><td>84</td></tr>    \n",
    "    <tr><td>2</td><td>1971-07-08</td><td>2</td></tr>    \n",
    "    <tr><td>3</td><td>1971-07-11</td><td>53</td></tr>    \n",
    "    <tr><td>4</td><td>1971-09-12</td><td>28</td></tr>    \n",
    "    <tr><td>.</td></tr>    \n",
    "    <tr><td>.</td></tr>    \n",
    "    <tr><td>.</td></tr>    \n",
    "    <tr><td>495 </td><td>2016-05-01</td><td>    427</td></tr>    \n",
    "    <tr><td>496</td><td> 2016-05-30  </td><td>  141</td></tr>    \n",
    "    <tr><td>497</td><td> 2016-10-13  </td><td>  186</td></tr>    \n",
    "    <tr><td>498</td><td> 2016-10-19   </td><td> 161</td></tr>    \n",
    "    <tr><td>499 </td><td>2016-11-01 </td><td>   413</td></tr>    \n",
    "</table> "
   ],
   "metadata": {
    "collapsed": false
   },
   "id": "1d0d821a933c3f2d"
  },
  {
   "cell_type": "code",
   "outputs": [
    {
     "name": "stderr",
     "output_type": "stream",
     "text": [
      "C:\\Users\\Dima\\AppData\\Local\\Temp\\ipykernel_16640\\201812186.py:10: UserWarning: Could not infer format, so each element will be parsed individually, falling back to `dateutil`. To ensure parsing is consistent and as-expected, please specify a format.\n",
      "  dates = pd.to_datetime(dates)\n"
     ]
    },
    {
     "data": {
      "text/plain": "           res  index\n0   1971-04-10      9\n1   1971-05-18     84\n2   1971-07-08      2\n3   1971-07-11     53\n4   1971-09-12     28\n..         ...    ...\n495 2016-05-01    427\n496 2016-05-30    141\n497 2016-10-13    186\n498 2016-10-19    161\n499 2016-11-01    413\n\n[500 rows x 2 columns]",
      "text/html": "<div>\n<style scoped>\n    .dataframe tbody tr th:only-of-type {\n        vertical-align: middle;\n    }\n\n    .dataframe tbody tr th {\n        vertical-align: top;\n    }\n\n    .dataframe thead th {\n        text-align: right;\n    }\n</style>\n<table border=\"1\" class=\"dataframe\">\n  <thead>\n    <tr style=\"text-align: right;\">\n      <th></th>\n      <th>res</th>\n      <th>index</th>\n    </tr>\n  </thead>\n  <tbody>\n    <tr>\n      <th>0</th>\n      <td>1971-04-10</td>\n      <td>9</td>\n    </tr>\n    <tr>\n      <th>1</th>\n      <td>1971-05-18</td>\n      <td>84</td>\n    </tr>\n    <tr>\n      <th>2</th>\n      <td>1971-07-08</td>\n      <td>2</td>\n    </tr>\n    <tr>\n      <th>3</th>\n      <td>1971-07-11</td>\n      <td>53</td>\n    </tr>\n    <tr>\n      <th>4</th>\n      <td>1971-09-12</td>\n      <td>28</td>\n    </tr>\n    <tr>\n      <th>...</th>\n      <td>...</td>\n      <td>...</td>\n    </tr>\n    <tr>\n      <th>495</th>\n      <td>2016-05-01</td>\n      <td>427</td>\n    </tr>\n    <tr>\n      <th>496</th>\n      <td>2016-05-30</td>\n      <td>141</td>\n    </tr>\n    <tr>\n      <th>497</th>\n      <td>2016-10-13</td>\n      <td>186</td>\n    </tr>\n    <tr>\n      <th>498</th>\n      <td>2016-10-19</td>\n      <td>161</td>\n    </tr>\n    <tr>\n      <th>499</th>\n      <td>2016-11-01</td>\n      <td>413</td>\n    </tr>\n  </tbody>\n</table>\n<p>500 rows × 2 columns</p>\n</div>"
     },
     "execution_count": 4,
     "metadata": {},
     "output_type": "execute_result"
    }
   ],
   "source": [
    "pattern1 = '(\\d{1,2}[/-]\\d{1,2}[/-]\\d{2,4})'\n",
    "pattern2 = '((?:Jan|Feb|Mar|Apr|May|Jun|Jul|Aug|Sep|Oct|Nov|Dec)[\\S]*[+\\s]\\d{1,2}[,]{0,1}[+\\s]\\d{4})'\n",
    "pattern3 = '(\\d{1,2}[+\\s](?:Jan|Feb|Mar|Apr|May|Jun|Jul|Aug|Sep|Oct|Nov|Dec)[\\S]*[+\\s]\\d{4})'\n",
    "pattern4 = '((?:Jan|Feb|Mar|Apr|May|Jun|Jul|Aug|Sep|Oct|Nov|Dec)[\\S]*[+\\s]\\d{4})'\n",
    "pattern5 = '(\\d{1,2}[/-][1|2]\\d{3})'\n",
    "pattern6 = '([1|2]\\d{3})'\n",
    "full_pattern = '(%s|%s|%s|%s|%s|%s)' %(pattern1, pattern2, pattern3, pattern4, pattern5, pattern6)\n",
    "dates = df.str.extract(full_pattern)\n",
    "dates = dates.iloc[:,0].str.replace('Janaury', 'January').str.replace('Decemeber', 'December')\n",
    "dates = pd.to_datetime(dates)\n",
    "df_dates = pd.DataFrame({'res': dates, 'index': df.index})\n",
    "df_dates['res'] = np.where(df_dates['res'].dt.year > 2022, df_dates['res'] - pd.offsets.DateOffset(years=100), df_dates['res'])\n",
    "df_dates = df_dates.sort_values(by='res', kind='mergesort')\n",
    "df_dates.reset_index(drop=True, inplace=True)\n",
    "df_dates"
   ],
   "metadata": {
    "collapsed": false,
    "ExecuteTime": {
     "end_time": "2024-02-18T15:42:14.102163200Z",
     "start_time": "2024-02-18T15:42:14.050215500Z"
    }
   },
   "id": "74d67af43d375e93",
   "execution_count": 4
  },
  {
   "cell_type": "code",
   "outputs": [],
   "source": [],
   "metadata": {
    "collapsed": false
   },
   "id": "d6661a00235ac405"
  }
 ],
 "metadata": {
  "kernelspec": {
   "display_name": "Python 3",
   "language": "python",
   "name": "python3"
  },
  "language_info": {
   "codemirror_mode": {
    "name": "ipython",
    "version": 2
   },
   "file_extension": ".py",
   "mimetype": "text/x-python",
   "name": "python",
   "nbconvert_exporter": "python",
   "pygments_lexer": "ipython2",
   "version": "2.7.6"
  }
 },
 "nbformat": 4,
 "nbformat_minor": 5
}
