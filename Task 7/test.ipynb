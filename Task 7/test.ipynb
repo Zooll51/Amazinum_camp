{
 "cells": [
  {
   "cell_type": "markdown",
   "source": [
    "<font color = green>\n",
    "\n",
    "# Logistic Regression #\n",
    "</font>"
   ],
   "metadata": {
    "collapsed": false
   },
   "id": "7c27029616f2e6d9"
  },
  {
   "cell_type": "markdown",
   "source": [
    "<font color = green>\n",
    "\n",
    "## Import necessary packages\n",
    "\n",
    "</font>"
   ],
   "metadata": {
    "collapsed": false
   },
   "id": "3c9475773cb5385f"
  },
  {
   "cell_type": "code",
   "execution_count": 1,
   "outputs": [],
   "source": [
    "import numpy as np\n",
    "import matplotlib.pyplot as plt\n",
    "import h5py # common package to interact with a dataset that is stored on an H5 file.\n",
    "import scipy\n",
    "# from PIL import Image\n",
    "from scipy import ndimage"
   ],
   "metadata": {
    "collapsed": false,
    "ExecuteTime": {
     "end_time": "2023-10-30T13:43:56.579850300Z",
     "start_time": "2023-10-30T13:43:55.812399800Z"
    }
   },
   "id": "e6615ffa6f3cd054"
  },
  {
   "cell_type": "markdown",
   "source": [
    "<font color = green>\n",
    "\n",
    "## Problem statement ##\n",
    "</font>\n",
    "\n",
    "\n",
    "Dataset (\"data.h5\") contains:\n",
    "- a training set of m_train images labeled as cat (y=1) or non-cat (y=0)\n",
    "- a test set of m_test images labeled as cat or non-cat\n",
    "- each image is of shape (num_px, num_px, 3) where 3 is for the 3 channels (RGB) (each image is square: height = num_px and width = num_px).\n",
    "\n",
    "Task is to build a simple image-classification algorithm that can correctly classify pictures as cat or non-cat."
   ],
   "metadata": {
    "collapsed": false
   },
   "id": "f096f90c161301a8"
  },
  {
   "cell_type": "markdown",
   "source": [
    "<font color = green>\n",
    "\n",
    "## Overview dataset \n",
    "\n",
    "</font>"
   ],
   "metadata": {
    "collapsed": false
   },
   "id": "1a4469dfe2c7511a"
  },
  {
   "cell_type": "markdown",
   "source": [
    "<font color = green>\n",
    "\n",
    "### Create shortcut for path\n",
    "\n",
    "</font>"
   ],
   "metadata": {
    "collapsed": false
   },
   "id": "94585cccd38947e7"
  },
  {
   "cell_type": "markdown",
   "source": [
    "<font color = green>\n",
    "\n",
    "### Load dataset\n",
    "\n",
    "</font>"
   ],
   "metadata": {
    "collapsed": false
   },
   "id": "c4abb528fb4b6117"
  },
  {
   "cell_type": "markdown",
   "source": [
    "<font color = blue >\n",
    "\n",
    "### Check result\n",
    "\n",
    "</font>"
   ],
   "metadata": {
    "collapsed": false
   },
   "id": "a5d24d0993675dfb"
  },
  {
   "cell_type": "markdown",
   "source": [
    "<font color = blue >\n",
    "\n",
    "### Expected output\n",
    "\n",
    "</font>\n",
    "\n",
    "<br> `Number of training examples: m_train = 209` \n",
    "<br> `Number of testing examples: m_test = 50` \n",
    "<br> `Height/Width of each image: num_px = 64` \n",
    "<br> `Each image is of size: (64, 64, 3)` \n",
    "\n"
   ],
   "metadata": {
    "collapsed": false
   },
   "id": "1458d02d07157cfb"
  },
  {
   "cell_type": "markdown",
   "source": [
    "<font color = green>\n",
    "\n",
    "### Review some examples\n",
    "\n",
    "</font>"
   ],
   "metadata": {
    "collapsed": false
   },
   "id": "4b1169447cc25dfb"
  },
  {
   "cell_type": "markdown",
   "source": [
    "<font color = green>\n",
    "\n",
    "## Flatten features\n",
    "\n",
    "</font>"
   ],
   "metadata": {
    "collapsed": false
   },
   "id": "37cb8dadf3ef8359"
  },
  {
   "cell_type": "markdown",
   "source": [
    "<font color = blue >\n",
    "\n",
    "### Check result\n",
    "\n",
    "</font>\n"
   ],
   "metadata": {
    "collapsed": false
   },
   "id": "bca77d9393c8c438"
  },
  {
   "cell_type": "markdown",
   "source": [
    "<font color = blue >\n",
    "\n",
    "### Expected Output\n",
    "\n",
    "</font>\n",
    "\n",
    "\n",
    "<br>`X_train_flattern shape: (209,12288)` \n",
    "<br>`X_test_flattern shape: (50,12288)`\n",
    "<br>`sanity check after reshaping: [17 31 56 22 33]`\n"
   ],
   "metadata": {
    "collapsed": false
   },
   "id": "5c04c71a24d2a782"
  },
  {
   "cell_type": "markdown",
   "source": [
    "<font color = green>\n",
    "\n",
    "## Normalize features\n",
    "\n",
    "</font>\n",
    "To represent color images, the red, green and blue channels (RGB) must be specified for each pixel, and so the pixel value is actually a vector of three numbers ranging from 0 to 255.\n",
    "\n",
    "For picture datasets, it is almost the same as MinMaxScaler  to just divide every row of the dataset by 255 (the maximum value of a pixel channel)."
   ],
   "metadata": {
    "collapsed": false
   },
   "id": "5b8ffa7d4559b752"
  },
  {
   "cell_type": "markdown",
   "source": [
    "<font color = green>\n",
    "\n",
    "## sigmoid function\n",
    "\n",
    "</font>\n",
    "\n",
    "$ g(z) = \\frac{1}{1 + e^{-z}}$"
   ],
   "metadata": {
    "collapsed": false
   },
   "id": "268ea3cd4aebbf63"
  },
  {
   "cell_type": "code",
   "execution_count": null,
   "outputs": [],
   "source": [],
   "metadata": {
    "collapsed": false
   },
   "id": "1e3e0aa737baa10f"
  }
 ],
 "metadata": {
  "kernelspec": {
   "display_name": "Python 3",
   "language": "python",
   "name": "python3"
  },
  "language_info": {
   "codemirror_mode": {
    "name": "ipython",
    "version": 2
   },
   "file_extension": ".py",
   "mimetype": "text/x-python",
   "name": "python",
   "nbconvert_exporter": "python",
   "pygments_lexer": "ipython2",
   "version": "2.7.6"
  }
 },
 "nbformat": 4,
 "nbformat_minor": 5
}
